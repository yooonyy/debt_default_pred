{
 "cells": [
  {
   "cell_type": "code",
   "execution_count": 127,
   "id": "074aa426",
   "metadata": {},
   "outputs": [],
   "source": [
    "import pandas as pd\n",
    "import numpy as np"
   ]
  },
  {
   "cell_type": "code",
   "execution_count": 128,
   "id": "2cef0bf1",
   "metadata": {},
   "outputs": [],
   "source": [
    "import warnings\n",
    "warnings.filterwarnings(action='ignore')"
   ]
  },
  {
   "cell_type": "code",
   "execution_count": 129,
   "id": "98227015",
   "metadata": {},
   "outputs": [],
   "source": [
    "raw_train=pd.read_csv('re_train.csv')"
   ]
  },
  {
   "cell_type": "code",
   "execution_count": 130,
   "id": "71979586",
   "metadata": {},
   "outputs": [],
   "source": [
    "raw_train=raw_train.drop('Unnamed: 0',axis=1)"
   ]
  },
  {
   "cell_type": "code",
   "execution_count": 131,
   "id": "e39637ef",
   "metadata": {},
   "outputs": [],
   "source": [
    "train=pd.get_dummies(raw_train, columns = ['gender','car','reality','income_type','edu_type','family_type','house_type','occyp_type'])"
   ]
  },
  {
   "cell_type": "code",
   "execution_count": 132,
   "id": "f8b934b1",
   "metadata": {},
   "outputs": [],
   "source": [
    "X=train.drop('credit',axis=1)\n",
    "y =train.credit"
   ]
  },
  {
   "cell_type": "code",
   "execution_count": 133,
   "id": "f567ebf7",
   "metadata": {},
   "outputs": [],
   "source": [
    "from sklearn.preprocessing import StandardScaler\n",
    "standard_scaler = StandardScaler()\n",
    "X = standard_scaler.fit_transform(X)"
   ]
  },
  {
   "cell_type": "code",
   "execution_count": null,
   "id": "de0e6d4e",
   "metadata": {},
   "outputs": [],
   "source": []
  },
  {
   "cell_type": "code",
   "execution_count": null,
   "id": "792b610c",
   "metadata": {},
   "outputs": [],
   "source": []
  },
  {
   "cell_type": "code",
   "execution_count": null,
   "id": "908d1a96",
   "metadata": {},
   "outputs": [],
   "source": []
  },
  {
   "cell_type": "code",
   "execution_count": 134,
   "id": "8d703ecd",
   "metadata": {},
   "outputs": [],
   "source": [
    "from minisom import MiniSom"
   ]
  },
  {
   "cell_type": "code",
   "execution_count": 135,
   "id": "16bc6c87",
   "metadata": {},
   "outputs": [],
   "source": [
    "som = MiniSom(x=5 ,y=5 ,sigma=1.0 ,learning_rate=0.5 ,input_len=56)"
   ]
  },
  {
   "cell_type": "code",
   "execution_count": 136,
   "id": "a99be911",
   "metadata": {},
   "outputs": [],
   "source": [
    "som.random_weights_init(X) "
   ]
  },
  {
   "cell_type": "code",
   "execution_count": 137,
   "id": "1fbfbd58",
   "metadata": {},
   "outputs": [],
   "source": [
    "som.train_random(data=X ,num_iteration=100)"
   ]
  },
  {
   "cell_type": "code",
   "execution_count": 138,
   "id": "35f9085c",
   "metadata": {},
   "outputs": [
    {
     "data": {
      "text/plain": [
       "<matplotlib.colorbar.Colorbar at 0x1848d74c0>"
      ]
     },
     "execution_count": 138,
     "metadata": {},
     "output_type": "execute_result"
    },
    {
     "data": {
      "image/png": "[encoded data removed]",
      "text/plain": [
       "<Figure size 400x240 with 2 Axes>"
      ]
     },
     "metadata": {},
     "output_type": "display_data"
    }
   ],
   "source": [
    "# 5*5 map 을 평면 위에 표현\n",
    "# node 에 최근접한 data point 들이 많을수록 짙게, 적을수록 옅게 표시 (Map 의 진한 부분엔 데이터들이 모여있다는 뜻)\n",
    "# Visualizing the results\n",
    "\n",
    "from pylab import bone, pcolor, colorbar, plot, show\n",
    "import matplotlib.pyplot as plt\n",
    "\n",
    "plt.figure(figsize=(5, 3), dpi= 80, facecolor='w', edgecolor='k')\n",
    "\n",
    "pcolor(som.distance_map().T)\n",
    "colorbar()"
   ]
  },
  {
   "cell_type": "code",
   "execution_count": 139,
   "id": "03b4b230",
   "metadata": {},
   "outputs": [
    {
     "data": {
      "text/plain": [
       "array([[0.51279756, 0.75681298, 0.60928227, 0.49461575, 0.28013963],\n",
       "       [0.79840147, 1.        , 0.7606558 , 0.78559653, 0.48050322],\n",
       "       [0.74707334, 0.87924462, 0.72430209, 0.7914489 , 0.50500871],\n",
       "       [0.66790694, 0.88196894, 0.71942238, 0.758637  , 0.39055797],\n",
       "       [0.41262764, 0.57927964, 0.56981931, 0.38146363, 0.20691871]])"
      ]
     },
     "execution_count": 139,
     "metadata": {},
     "output_type": "execute_result"
    }
   ],
   "source": [
    "som.distance_map()"
   ]
  },
  {
   "cell_type": "code",
   "execution_count": 140,
   "id": "cf00aa5d",
   "metadata": {},
   "outputs": [
    {
     "data": {
      "text/html": [
       "<div>\n",
       "<style scoped>\n",
       "    .dataframe tbody tr th:only-of-type {\n",
       "        vertical-align: middle;\n",
       "    }\n",
       "\n",
       "    .dataframe tbody tr th {\n",
       "        vertical-align: top;\n",
       "    }\n",
       "\n",
       "    .dataframe thead th {\n",
       "        text-align: right;\n",
       "    }\n",
       "</style>\n",
       "<table border=\"1\" class=\"dataframe\">\n",
       "  <thead>\n",
       "    <tr style=\"text-align: right;\">\n",
       "      <th></th>\n",
       "      <th>0</th>\n",
       "      <th>1</th>\n",
       "      <th>2</th>\n",
       "      <th>3</th>\n",
       "      <th>4</th>\n",
       "    </tr>\n",
       "  </thead>\n",
       "  <tbody>\n",
       "    <tr>\n",
       "      <th>0</th>\n",
       "      <td>0.512798</td>\n",
       "      <td>0.756813</td>\n",
       "      <td>0.609282</td>\n",
       "      <td>0.494616</td>\n",
       "      <td>0.280140</td>\n",
       "    </tr>\n",
       "    <tr>\n",
       "      <th>1</th>\n",
       "      <td>0.798401</td>\n",
       "      <td>1.000000</td>\n",
       "      <td>0.760656</td>\n",
       "      <td>0.785597</td>\n",
       "      <td>0.480503</td>\n",
       "    </tr>\n",
       "    <tr>\n",
       "      <th>2</th>\n",
       "      <td>0.747073</td>\n",
       "      <td>0.879245</td>\n",
       "      <td>0.724302</td>\n",
       "      <td>0.791449</td>\n",
       "      <td>0.505009</td>\n",
       "    </tr>\n",
       "    <tr>\n",
       "      <th>3</th>\n",
       "      <td>0.667907</td>\n",
       "      <td>0.881969</td>\n",
       "      <td>0.719422</td>\n",
       "      <td>0.758637</td>\n",
       "      <td>0.390558</td>\n",
       "    </tr>\n",
       "    <tr>\n",
       "      <th>4</th>\n",
       "      <td>0.412628</td>\n",
       "      <td>0.579280</td>\n",
       "      <td>0.569819</td>\n",
       "      <td>0.381464</td>\n",
       "      <td>0.206919</td>\n",
       "    </tr>\n",
       "  </tbody>\n",
       "</table>\n",
       "</div>"
      ],
      "text/plain": [
       "          0         1         2         3         4\n",
       "0  0.512798  0.756813  0.609282  0.494616  0.280140\n",
       "1  0.798401  1.000000  0.760656  0.785597  0.480503\n",
       "2  0.747073  0.879245  0.724302  0.791449  0.505009\n",
       "3  0.667907  0.881969  0.719422  0.758637  0.390558\n",
       "4  0.412628  0.579280  0.569819  0.381464  0.206919"
      ]
     },
     "execution_count": 140,
     "metadata": {},
     "output_type": "execute_result"
    }
   ],
   "source": [
    "pd.DataFrame(som.distance_map())"
   ]
  },
  {
   "cell_type": "code",
   "execution_count": 141,
   "id": "ab01138b",
   "metadata": {},
   "outputs": [],
   "source": [
    "mapping = som.win_map(X)"
   ]
  },
  {
   "cell_type": "code",
   "execution_count": 155,
   "id": "6b77f37b",
   "metadata": {},
   "outputs": [
    {
     "data": {
      "image/png": "[encoded data removed]",
      "text/plain": [
       "<Figure size 432x288 with 2 Axes>"
      ]
     },
     "metadata": {
      "needs_background": "light"
     },
     "output_type": "display_data"
    }
   ],
   "source": [
    "# Visualizing the results\n",
    "## y값 표현 (신용도 낮으면 0, 높으면 1: y=0, 초록 동그라미 / y=1)\n",
    "\n",
    "from pylab import bone, pcolor, colorbar, plot, show\n",
    "bone()\n",
    "pcolor(som.distance_map().T)\n",
    "colorbar()\n",
    "markers = ['o','s']\n",
    "colors = [\"g\",'b']\n",
    "for i, x in enumerate(X):\n",
    "    w = som.winner(x)\n",
    "    plot(w[0] + 0.5,\n",
    "         w[1] + 0.5,\n",
    "         markers[y[i]],\n",
    "         markeredgecolor = colors[y[i]],\n",
    "         markerfacecolor = 'None',\n",
    "         markersize = 5,\n",
    "         markeredgewidth = 2)\n",
    "show()"
   ]
  },
  {
   "cell_type": "code",
   "execution_count": 144,
   "id": "c9ae3ce1",
   "metadata": {},
   "outputs": [],
   "source": [
    "# 각 좌표별 feature의 평균값\n",
    "mean_list = []\n",
    "index_list = []\n",
    "for i in range(0, 5):\n",
    "    for j in range(0, 5):\n",
    "        mean_list.append(pd.DataFrame(mapping[0,0]).describe().loc['mean'])\n",
    "        index_list.append('(' + str(i) + ',' + str(j) + ')' )"
   ]
  },
  {
   "cell_type": "code",
   "execution_count": 145,
   "id": "b8ad5f98",
   "metadata": {},
   "outputs": [],
   "source": [
    "column_list=['child_num', 'income_total', 'DAYS_BIRTH', 'DAYS_EMPLOYED',\n",
    "       'work_phone', 'phone', 'email', 'family_size', 'begin_month',\n",
    "       'gender_F', 'gender_M', 'car_N', 'car_Y', 'reality_N', 'reality_Y',\n",
    "       'income_type_Commercial associate', 'income_type_Pensioner',\n",
    "       'income_type_State servant', 'income_type_Student',\n",
    "       'income_type_Working', 'edu_type_Academic degree',\n",
    "       'edu_type_Higher education', 'edu_type_Incomplete higher',\n",
    "       'edu_type_Lower secondary', 'edu_type_Secondary / secondary special',\n",
    "       'family_type_Civil marriage', 'family_type_Married',\n",
    "       'family_type_Separated', 'family_type_Single / not married',\n",
    "       'family_type_Widow', 'house_type_Co-op apartment',\n",
    "       'house_type_House / apartment', 'house_type_Municipal apartment',\n",
    "       'house_type_Office apartment', 'house_type_Rented apartment',\n",
    "       'house_type_With parents', 'occyp_type_Accountants',\n",
    "       'occyp_type_Cleaning staff', 'occyp_type_Cooking staff',\n",
    "       'occyp_type_Core staff', 'occyp_type_Drivers', 'occyp_type_HR staff',\n",
    "       'occyp_type_High skill tech staff', 'occyp_type_IT staff',\n",
    "       'occyp_type_Laborers', 'occyp_type_Low-skill Laborers',\n",
    "       'occyp_type_Managers', 'occyp_type_Medicine staff', 'occyp_type_No',\n",
    "       'occyp_type_Private service staff', 'occyp_type_Realty agents',\n",
    "       'occyp_type_Sales staff', 'occyp_type_Secretaries',\n",
    "       'occyp_type_Security staff', 'occyp_type_Unknown',\n",
    "       'occyp_type_Waiters/barmen staff']"
   ]
  },
  {
   "cell_type": "code",
   "execution_count": 146,
   "id": "cf37e613",
   "metadata": {},
   "outputs": [],
   "source": [
    "mean_df=pd.DataFrame(mean_list, index =index_list)\n",
    "mean_df.columns = [column_list]"
   ]
  },
  {
   "cell_type": "code",
   "execution_count": 157,
   "id": "dd127da1",
   "metadata": {},
   "outputs": [
    {
     "data": {
      "text/plain": [
       "edu_type_Lower secondary                  9.982890\n",
       "occyp_type_No                             0.561980\n",
       "income_type_Pensioner                     0.561356\n",
       "house_type_Municipal apartment            0.452704\n",
       "DAYS_EMPLOYED                             0.346639\n",
       "car_N                                     0.285583\n",
       "occyp_type_Cleaning staff                 0.224094\n",
       "reality_Y                                 0.148128\n",
       "occyp_type_Laborers                       0.107974\n",
       "family_type_Widow                         0.078105\n",
       "house_type_Co-op apartment                0.061659\n",
       "occyp_type_Medicine staff                 0.058257\n",
       "occyp_type_Low-skill Laborers             0.056610\n",
       "occyp_type_Unknown                        0.054739\n",
       "income_type_Working                       0.047085\n",
       "family_type_Married                       0.038408\n",
       "gender_M                                  0.026041\n",
       "house_type_With parents                   0.015033\n",
       "house_type_Rented apartment               0.005546\n",
       "income_type_Student                      -0.012530\n",
       "family_type_Single / not married         -0.022189\n",
       "gender_F                                 -0.026041\n",
       "edu_type_Academic degree                 -0.031960\n",
       "phone                                    -0.034770\n",
       "occyp_type_IT staff                      -0.038647\n",
       "family_type_Civil marriage               -0.040591\n",
       "work_phone                               -0.040879\n",
       "email                                    -0.049094\n",
       "occyp_type_HR staff                      -0.050961\n",
       "occyp_type_Realty agents                 -0.050961\n",
       "occyp_type_Cooking staff                 -0.060532\n",
       "occyp_type_Secretaries                   -0.060851\n",
       "occyp_type_Waiters/barmen staff          -0.063397\n",
       "family_type_Separated                    -0.065408\n",
       "occyp_type_High skill tech staff         -0.071185\n",
       "house_type_Office apartment              -0.084819\n",
       "occyp_type_Private service staff         -0.094600\n",
       "begin_month                              -0.111420\n",
       "occyp_type_Sales staff                   -0.122724\n",
       "occyp_type_Security staff                -0.131636\n",
       "family_size                              -0.146748\n",
       "reality_N                                -0.148128\n",
       "occyp_type_Drivers                       -0.180969\n",
       "occyp_type_Accountants                   -0.185771\n",
       "child_num                                -0.188943\n",
       "edu_type_Incomplete higher               -0.198296\n",
       "income_type_State servant                -0.210559\n",
       "occyp_type_Core staff                    -0.221998\n",
       "house_type_House / apartment             -0.258068\n",
       "occyp_type_Managers                      -0.263612\n",
       "car_Y                                    -0.285583\n",
       "DAYS_BIRTH                               -0.403065\n",
       "income_type_Commercial associate         -0.415035\n",
       "income_total                             -0.437012\n",
       "edu_type_Higher education                -0.613639\n",
       "edu_type_Secondary / secondary special   -1.326705\n",
       "Name: mean, dtype: float64"
      ]
     },
     "execution_count": 157,
     "metadata": {},
     "output_type": "execute_result"
    }
   ],
   "source": [
    "mean_1=pd.DataFrame(mapping[1,0])\n",
    "mean_1.columns = [column_list]\n",
    "mean_1.describe().loc['mean'].sort_values(ascending=False)"
   ]
  },
  {
   "cell_type": "code",
   "execution_count": 158,
   "id": "3c2389d0",
   "metadata": {},
   "outputs": [
    {
     "data": {
      "text/plain": [
       "occyp_type_Drivers                        3.961975\n",
       "gender_M                                  1.301444\n",
       "car_Y                                     0.799928\n",
       "income_type_Working                       0.331383\n",
       "family_type_Married                       0.287570\n",
       "edu_type_Secondary / secondary special    0.273367\n",
       "DAYS_BIRTH                                0.260618\n",
       "family_size                               0.255074\n",
       "income_total                              0.221126\n",
       "house_type_With parents                   0.191132\n",
       "child_num                                 0.173738\n",
       "work_phone                                0.152505\n",
       "reality_N                                 0.118876\n",
       "income_type_Commercial associate          0.079869\n",
       "DAYS_EMPLOYED                             0.079030\n",
       "edu_type_Incomplete higher                0.036936\n",
       "email                                    -0.006929\n",
       "income_type_Student                      -0.012530\n",
       "house_type_Rented apartment              -0.017581\n",
       "edu_type_Academic degree                 -0.031960\n",
       "occyp_type_IT staff                      -0.038647\n",
       "house_type_House / apartment             -0.044906\n",
       "begin_month                              -0.050331\n",
       "occyp_type_Realty agents                 -0.050961\n",
       "occyp_type_HR staff                      -0.050961\n",
       "phone                                    -0.057511\n",
       "occyp_type_Secretaries                   -0.060851\n",
       "occyp_type_Waiters/barmen staff          -0.063397\n",
       "house_type_Co-op apartment               -0.066446\n",
       "occyp_type_Low-skill Laborers            -0.068210\n",
       "family_type_Single / not married         -0.074099\n",
       "house_type_Municipal apartment           -0.075129\n",
       "house_type_Office apartment              -0.084819\n",
       "edu_type_Lower secondary                 -0.094176\n",
       "occyp_type_Private service staff         -0.094600\n",
       "family_type_Civil marriage               -0.104850\n",
       "income_type_State servant                -0.104880\n",
       "reality_Y                                -0.118876\n",
       "occyp_type_Cleaning staff                -0.123698\n",
       "occyp_type_Cooking staff                 -0.127884\n",
       "occyp_type_Security staff                -0.131636\n",
       "family_type_Separated                    -0.162990\n",
       "occyp_type_Medicine staff                -0.182122\n",
       "occyp_type_Accountants                   -0.185771\n",
       "occyp_type_High skill tech staff         -0.202113\n",
       "family_type_Widow                        -0.206134\n",
       "edu_type_Higher education                -0.280139\n",
       "occyp_type_Managers                      -0.294852\n",
       "occyp_type_Sales staff                   -0.324689\n",
       "occyp_type_Core staff                    -0.334640\n",
       "occyp_type_Unknown                       -0.406677\n",
       "occyp_type_No                            -0.452847\n",
       "income_type_Pensioner                    -0.453098\n",
       "occyp_type_Laborers                      -0.454482\n",
       "car_N                                    -0.799928\n",
       "gender_F                                 -1.301444\n",
       "Name: mean, dtype: float64"
      ]
     },
     "execution_count": 158,
     "metadata": {},
     "output_type": "execute_result"
    }
   ],
   "source": [
    "mean_2=pd.DataFrame(mapping[4,0])\n",
    "mean_2.columns = [column_list]\n",
    "mean_2.describe().loc['mean'].sort_values(ascending=False)"
   ]
  },
  {
   "cell_type": "code",
   "execution_count": 159,
   "id": "e4336016",
   "metadata": {},
   "outputs": [
    {
     "data": {
      "text/plain": [
       "occyp_type_Managers                       1.814203\n",
       "edu_type_Higher education                 1.490947\n",
       "occyp_type_Core staff                     0.877724\n",
       "income_total                              0.670396\n",
       "family_type_Married                       0.413571\n",
       "DAYS_BIRTH                                0.379959\n",
       "income_type_Commercial associate          0.322266\n",
       "house_type_House / apartment              0.298595\n",
       "income_type_State servant                 0.270873\n",
       "phone                                     0.255535\n",
       "work_phone                                0.236646\n",
       "email                                     0.200691\n",
       "family_size                               0.194337\n",
       "gender_F                                  0.168219\n",
       "house_type_Co-op apartment                0.153429\n",
       "income_type_Student                       0.084219\n",
       "reality_Y                                 0.072837\n",
       "child_num                                 0.047153\n",
       "occyp_type_HR staff                       0.044428\n",
       "car_Y                                     0.015367\n",
       "edu_type_Academic degree                  0.006005\n",
       "occyp_type_Waiters/barmen staff          -0.005809\n",
       "car_N                                    -0.015367\n",
       "occyp_type_Realty agents                 -0.027114\n",
       "occyp_type_IT staff                      -0.038647\n",
       "occyp_type_Secretaries                   -0.040858\n",
       "begin_month                              -0.061396\n",
       "occyp_type_Low-skill Laborers            -0.068210\n",
       "occyp_type_Medicine staff                -0.072101\n",
       "reality_N                                -0.072837\n",
       "house_type_Office apartment              -0.084819\n",
       "income_type_Working                      -0.084983\n",
       "edu_type_Lower secondary                 -0.094176\n",
       "occyp_type_Private service staff         -0.094600\n",
       "edu_type_Incomplete higher               -0.115706\n",
       "occyp_type_Cleaning staff                -0.123698\n",
       "occyp_type_Cooking staff                 -0.127884\n",
       "house_type_Rented apartment              -0.128516\n",
       "occyp_type_Security staff                -0.131636\n",
       "family_type_Single / not married         -0.131803\n",
       "gender_M                                 -0.168219\n",
       "house_type_Municipal apartment           -0.179809\n",
       "DAYS_EMPLOYED                            -0.180095\n",
       "family_type_Civil marriage               -0.184311\n",
       "occyp_type_Accountants                   -0.185771\n",
       "occyp_type_High skill tech staff         -0.202113\n",
       "family_type_Widow                        -0.207068\n",
       "house_type_With parents                  -0.223671\n",
       "occyp_type_Drivers                       -0.226858\n",
       "family_type_Separated                    -0.236853\n",
       "occyp_type_Sales staff                   -0.299929\n",
       "occyp_type_Unknown                       -0.382362\n",
       "occyp_type_Laborers                      -0.425520\n",
       "occyp_type_No                            -0.452847\n",
       "income_type_Pensioner                    -0.453098\n",
       "edu_type_Secondary / secondary special   -1.357702\n",
       "Name: mean, dtype: float64"
      ]
     },
     "execution_count": 159,
     "metadata": {},
     "output_type": "execute_result"
    }
   ],
   "source": [
    "mean_3=pd.DataFrame(mapping[2,1])\n",
    "mean_3.columns = [column_list]\n",
    "mean_3.describe().loc['mean'].sort_values(ascending=False)"
   ]
  },
  {
   "cell_type": "code",
   "execution_count": null,
   "id": "6ba1ee11",
   "metadata": {},
   "outputs": [],
   "source": []
  },
  {
   "cell_type": "code",
   "execution_count": 100,
   "id": "b5d5a56e",
   "metadata": {},
   "outputs": [],
   "source": []
  },
  {
   "cell_type": "code",
   "execution_count": 101,
   "id": "55d621eb",
   "metadata": {},
   "outputs": [],
   "source": [
    "result_df=raw_train[['income_total','occyp_type','child_num','income_type','car','gender','family_size',\n",
    "                     'edu_type','credit']]                                                                                                  \n",
    "result_df=pd.get_dummies(result_df, columns = ['gender','car','income_type','edu_type','occyp_type']) \n"
   ]
  },
  {
   "cell_type": "code",
   "execution_count": 154,
   "id": "e1b51324",
   "metadata": {},
   "outputs": [],
   "source": [
    "result_df.to_csv('som_df.csv')"
   ]
  }
 ],
 "metadata": {
  "kernelspec": {
   "display_name": "Python 3",
   "language": "python",
   "name": "python3"
  },
  "language_info": {
   "codemirror_mode": {
    "name": "ipython",
    "version": 3
   },
   "file_extension": ".py",
   "mimetype": "text/x-python",
   "name": "python",
   "nbconvert_exporter": "python",
   "pygments_lexer": "ipython3",
   "version": "3.9.4"
  }
 },
 "nbformat": 4,
 "nbformat_minor": 5
}
