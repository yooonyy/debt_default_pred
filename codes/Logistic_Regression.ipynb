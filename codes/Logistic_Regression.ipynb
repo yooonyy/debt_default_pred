{
 "cells": [
  {
   "cell_type": "code",
   "execution_count": 296,
   "id": "9e184804",
   "metadata": {},
   "outputs": [],
   "source": [
    "import pandas as pd"
   ]
  },
  {
   "cell_type": "code",
   "execution_count": 297,
   "id": "905f1c88",
   "metadata": {},
   "outputs": [],
   "source": [
    "import warnings\n",
    "warnings.filterwarnings(action='ignore')"
   ]
  },
  {
   "cell_type": "code",
   "execution_count": 298,
   "id": "2bbbcbea",
   "metadata": {},
   "outputs": [],
   "source": [
    "import numpy as np"
   ]
  },
  {
   "cell_type": "markdown",
   "id": "920d8668",
   "metadata": {},
   "source": [
    "# 기본"
   ]
  },
  {
   "cell_type": "code",
   "execution_count": 299,
   "id": "cba58051",
   "metadata": {},
   "outputs": [],
   "source": [
    "train=pd.read_csv('re_train.csv')"
   ]
  },
  {
   "cell_type": "code",
   "execution_count": 300,
   "id": "ec7a4a19",
   "metadata": {},
   "outputs": [],
   "source": [
    "test_data=pd.read_csv('test.csv')"
   ]
  },
  {
   "cell_type": "code",
   "execution_count": 301,
   "id": "d46b47f7",
   "metadata": {},
   "outputs": [],
   "source": [
    "train=train.drop('Unnamed: 0',axis=1)"
   ]
  },
  {
   "cell_type": "code",
   "execution_count": 302,
   "id": "b728a354",
   "metadata": {},
   "outputs": [],
   "source": [
    "train=pd.get_dummies(train, columns = ['gender','car','reality','income_type','edu_type','family_type','house_type','occyp_type'])"
   ]
  },
  {
   "cell_type": "code",
   "execution_count": 303,
   "id": "dfe88582",
   "metadata": {},
   "outputs": [],
   "source": [
    "X=train.drop('credit',axis=1)\n",
    "y =train.credit"
   ]
  },
  {
   "cell_type": "code",
   "execution_count": 304,
   "id": "f6a2e687",
   "metadata": {},
   "outputs": [],
   "source": [
    "from sklearn.preprocessing import StandardScaler\n",
    "standard_scaler = StandardScaler()\n",
    "X = standard_scaler.fit_transform(X)"
   ]
  },
  {
   "cell_type": "code",
   "execution_count": 305,
   "id": "ceedf83b",
   "metadata": {},
   "outputs": [
    {
     "name": "stdout",
     "output_type": "stream",
     "text": [
      "8918\n",
      "8918\n",
      "3822\n",
      "3822\n"
     ]
    }
   ],
   "source": [
    "from sklearn.model_selection import train_test_split\n",
    "training_data, validation_data , training_labels, validation_labels = train_test_split(X, y, test_size = 0.3, random_state = 2022)\n",
    "print(len(training_data))\n",
    "print(len(training_labels))\n",
    "\n",
    "print(len(validation_data))\n",
    "print(len(validation_labels))"
   ]
  },
  {
   "cell_type": "code",
   "execution_count": 306,
   "id": "eeb6b172",
   "metadata": {},
   "outputs": [],
   "source": [
    "from imblearn.over_sampling import SMOTE\n",
    "training_data, training_labels = SMOTE(random_state=0).fit_resample(training_data, training_labels)"
   ]
  },
  {
   "cell_type": "code",
   "execution_count": 307,
   "id": "d373ecde",
   "metadata": {},
   "outputs": [
    {
     "data": {
      "text/plain": [
       "0    7785\n",
       "1    7785\n",
       "Name: credit, dtype: int64"
      ]
     },
     "execution_count": 307,
     "metadata": {},
     "output_type": "execute_result"
    }
   ],
   "source": [
    "training_labels.value_counts()"
   ]
  },
  {
   "cell_type": "code",
   "execution_count": null,
   "id": "8174ae8f",
   "metadata": {},
   "outputs": [],
   "source": []
  },
  {
   "cell_type": "code",
   "execution_count": 308,
   "id": "c75ac692",
   "metadata": {},
   "outputs": [],
   "source": [
    "from sklearn.linear_model import LogisticRegression"
   ]
  },
  {
   "cell_type": "code",
   "execution_count": 309,
   "id": "ebd4f2ad",
   "metadata": {},
   "outputs": [],
   "source": [
    "import numpy as np\n",
    "from sklearn import linear_model, datasets\n",
    "from sklearn.model_selection import GridSearchCV\n",
    "\n",
    "features = training_data\n",
    "target = training_labels\n",
    "logistic = linear_model.LogisticRegression()\n",
    "penalty = ['l1','l2'] # 페널티(penalty) 하이퍼파라미터 값의 후보를 만듭니다.\n",
    "C = np.logspace(0, 4, 20) # 규제 하이퍼파라미터 값의 후보 범위를 만듭니다.\n",
    "hyperparameters = dict(C=C, penalty=penalty) # 하이퍼파라미터 후보 딕셔너리를 만듭니다.\n"
   ]
  },
  {
   "cell_type": "code",
   "execution_count": 310,
   "id": "c72cd786",
   "metadata": {},
   "outputs": [
    {
     "data": {
      "text/plain": [
       "array([1.00000000e+00, 1.62377674e+00, 2.63665090e+00, 4.28133240e+00,\n",
       "       6.95192796e+00, 1.12883789e+01, 1.83298071e+01, 2.97635144e+01,\n",
       "       4.83293024e+01, 7.84759970e+01, 1.27427499e+02, 2.06913808e+02,\n",
       "       3.35981829e+02, 5.45559478e+02, 8.85866790e+02, 1.43844989e+03,\n",
       "       2.33572147e+03, 3.79269019e+03, 6.15848211e+03, 1.00000000e+04])"
      ]
     },
     "execution_count": 310,
     "metadata": {},
     "output_type": "execute_result"
    }
   ],
   "source": [
    "gridsearch = GridSearchCV(logistic, hyperparameters, cv=5, verbose=0) # 그리드 서치 객체 생성\n",
    "best_model = gridsearch.fit(features, target) # 그리드 서치 수행 \n",
    "\n",
    "np.logspace(0, 4, 20)"
   ]
  },
  {
   "cell_type": "code",
   "execution_count": 311,
   "id": "441b40fc",
   "metadata": {},
   "outputs": [
    {
     "name": "stdout",
     "output_type": "stream",
     "text": [
      "가장 좋은 페널티: l2\n",
      "가장 좋은 C 값: 1.6237767391887217\n"
     ]
    }
   ],
   "source": [
    "# 최선의 하이퍼파라미터를 확인합니다.\n",
    "print('가장 좋은 페널티:', best_model.best_estimator_.get_params()['penalty'])\n",
    "print('가장 좋은 C 값:', best_model.best_estimator_.get_params()['C'])\n"
   ]
  },
  {
   "cell_type": "code",
   "execution_count": 312,
   "id": "92510a8d",
   "metadata": {},
   "outputs": [
    {
     "name": "stdout",
     "output_type": "stream",
     "text": [
      "0.5054945054945055\n"
     ]
    }
   ],
   "source": [
    "print(best_model.score(validation_data,validation_labels))"
   ]
  },
  {
   "cell_type": "code",
   "execution_count": 313,
   "id": "2099c8de",
   "metadata": {},
   "outputs": [
    {
     "data": {
      "text/plain": [
       "array([0, 1, 1, ..., 0, 0, 1])"
      ]
     },
     "execution_count": 313,
     "metadata": {},
     "output_type": "execute_result"
    }
   ],
   "source": [
    "y_pred = best_model.predict(validation_data)\n",
    "y_pred"
   ]
  },
  {
   "cell_type": "code",
   "execution_count": 314,
   "id": "b7bfae40",
   "metadata": {},
   "outputs": [],
   "source": [
    "pred=pd.DataFrame(y_pred)"
   ]
  },
  {
   "cell_type": "code",
   "execution_count": 315,
   "id": "e84c0f3f",
   "metadata": {},
   "outputs": [
    {
     "data": {
      "text/plain": [
       "1    1917\n",
       "0    1905\n",
       "dtype: int64"
      ]
     },
     "execution_count": 315,
     "metadata": {},
     "output_type": "execute_result"
    }
   ],
   "source": [
    "pred.value_counts()"
   ]
  },
  {
   "cell_type": "code",
   "execution_count": null,
   "id": "21578db8",
   "metadata": {},
   "outputs": [],
   "source": []
  },
  {
   "cell_type": "markdown",
   "id": "e03ff265",
   "metadata": {},
   "source": [
    "# SOM"
   ]
  },
  {
   "cell_type": "code",
   "execution_count": 359,
   "id": "9f0f0726",
   "metadata": {},
   "outputs": [],
   "source": [
    "train=pd.read_csv('som_df.csv')"
   ]
  },
  {
   "cell_type": "code",
   "execution_count": 360,
   "id": "deca69eb",
   "metadata": {},
   "outputs": [],
   "source": [
    "train=train.drop('Unnamed: 0',axis=1)"
   ]
  },
  {
   "cell_type": "code",
   "execution_count": 361,
   "id": "0bb725f4",
   "metadata": {},
   "outputs": [],
   "source": [
    "X=train.drop('credit',axis=1)\n",
    "y =train.credit"
   ]
  },
  {
   "cell_type": "code",
   "execution_count": 362,
   "id": "1a6e5d1b",
   "metadata": {},
   "outputs": [],
   "source": [
    "from sklearn.preprocessing import StandardScaler\n",
    "standard_scaler = StandardScaler()\n",
    "X = standard_scaler.fit_transform(X)"
   ]
  },
  {
   "cell_type": "code",
   "execution_count": 363,
   "id": "61128b89",
   "metadata": {},
   "outputs": [
    {
     "name": "stdout",
     "output_type": "stream",
     "text": [
      "8918\n",
      "8918\n",
      "3822\n",
      "3822\n"
     ]
    }
   ],
   "source": [
    "from sklearn.model_selection import train_test_split\n",
    "training_data, validation_data , training_labels, validation_labels = train_test_split(X, y, test_size = 0.3, random_state = 2022)\n",
    "print(len(training_data))\n",
    "print(len(training_labels))\n",
    "\n",
    "print(len(validation_data))\n",
    "print(len(validation_labels))"
   ]
  },
  {
   "cell_type": "code",
   "execution_count": 364,
   "id": "59d75863",
   "metadata": {},
   "outputs": [],
   "source": [
    "from imblearn.over_sampling import SMOTE\n",
    "training_data, training_labels = SMOTE(random_state=0).fit_resample(training_data, training_labels)"
   ]
  },
  {
   "cell_type": "code",
   "execution_count": 365,
   "id": "851138e3",
   "metadata": {},
   "outputs": [
    {
     "data": {
      "text/plain": [
       "0    7785\n",
       "1    7785\n",
       "Name: credit, dtype: int64"
      ]
     },
     "execution_count": 365,
     "metadata": {},
     "output_type": "execute_result"
    }
   ],
   "source": [
    "training_labels.value_counts()"
   ]
  },
  {
   "cell_type": "code",
   "execution_count": 366,
   "id": "a06f05fb",
   "metadata": {},
   "outputs": [],
   "source": [
    "from sklearn import linear_model, datasets\n",
    "from sklearn.model_selection import GridSearchCV\n",
    "\n",
    "features = training_data\n",
    "target = training_labels\n",
    "logistic = linear_model.LogisticRegression()\n",
    "penalty = ['l1','l2'] # 페널티(penalty) 하이퍼파라미터 값의 후보를 만듭니다.\n",
    "C = np.logspace(0, 4, 20) # 규제 하이퍼파라미터 값의 후보 범위를 만듭니다.\n",
    "hyperparameters = dict(C=C, penalty=penalty) # 하이퍼파라미터 후보 딕셔너리를 만듭니다."
   ]
  },
  {
   "cell_type": "code",
   "execution_count": 367,
   "id": "91a7b4ca",
   "metadata": {},
   "outputs": [
    {
     "data": {
      "text/plain": [
       "array([1.00000000e+00, 1.62377674e+00, 2.63665090e+00, 4.28133240e+00,\n",
       "       6.95192796e+00, 1.12883789e+01, 1.83298071e+01, 2.97635144e+01,\n",
       "       4.83293024e+01, 7.84759970e+01, 1.27427499e+02, 2.06913808e+02,\n",
       "       3.35981829e+02, 5.45559478e+02, 8.85866790e+02, 1.43844989e+03,\n",
       "       2.33572147e+03, 3.79269019e+03, 6.15848211e+03, 1.00000000e+04])"
      ]
     },
     "execution_count": 367,
     "metadata": {},
     "output_type": "execute_result"
    }
   ],
   "source": [
    "gridsearch = GridSearchCV(logistic, hyperparameters, cv=5, verbose=0) # 그리드 서치 객체 생성\n",
    "best_model = gridsearch.fit(features, target) # 그리드 서치 수행 \n",
    "\n",
    "np.logspace(0, 4, 20)\n"
   ]
  },
  {
   "cell_type": "code",
   "execution_count": 368,
   "id": "74c6406a",
   "metadata": {},
   "outputs": [
    {
     "name": "stdout",
     "output_type": "stream",
     "text": [
      "가장 좋은 페널티: l2\n",
      "가장 좋은 C 값: 545.5594781168514\n"
     ]
    }
   ],
   "source": [
    "# 최선의 하이퍼파라미터를 확인합니다.\n",
    "print('가장 좋은 페널티:', best_model.best_estimator_.get_params()['penalty'])\n",
    "print('가장 좋은 C 값:', best_model.best_estimator_.get_params()['C'])\n"
   ]
  },
  {
   "cell_type": "code",
   "execution_count": 369,
   "id": "b3c5d3b4",
   "metadata": {},
   "outputs": [
    {
     "name": "stdout",
     "output_type": "stream",
     "text": [
      "0.4942438513867085\n"
     ]
    }
   ],
   "source": [
    "print(best_model.score(validation_data,validation_labels))"
   ]
  },
  {
   "cell_type": "code",
   "execution_count": 370,
   "id": "1e39f883",
   "metadata": {},
   "outputs": [
    {
     "data": {
      "text/plain": [
       "array([0, 0, 1, ..., 0, 0, 1])"
      ]
     },
     "execution_count": 370,
     "metadata": {},
     "output_type": "execute_result"
    }
   ],
   "source": [
    "y_pred = best_model.predict(validation_data)\n",
    "y_pred"
   ]
  },
  {
   "cell_type": "code",
   "execution_count": 371,
   "id": "3b8930e6",
   "metadata": {},
   "outputs": [],
   "source": [
    "pred=pd.DataFrame(y_pred)"
   ]
  },
  {
   "cell_type": "code",
   "execution_count": 372,
   "id": "1fb0babc",
   "metadata": {},
   "outputs": [
    {
     "data": {
      "text/plain": [
       "1    1912\n",
       "0    1910\n",
       "dtype: int64"
      ]
     },
     "execution_count": 372,
     "metadata": {},
     "output_type": "execute_result"
    }
   ],
   "source": [
    "pred.value_counts()"
   ]
  },
  {
   "cell_type": "code",
   "execution_count": null,
   "id": "7e36efaf",
   "metadata": {},
   "outputs": [],
   "source": []
  },
  {
   "cell_type": "markdown",
   "id": "81e77006",
   "metadata": {},
   "source": [
    "# Cluster"
   ]
  },
  {
   "cell_type": "code",
   "execution_count": 330,
   "id": "efa43648",
   "metadata": {},
   "outputs": [],
   "source": [
    "cluster_data=pd.read_csv('cluster.csv')"
   ]
  },
  {
   "cell_type": "code",
   "execution_count": 331,
   "id": "ab511c87",
   "metadata": {},
   "outputs": [],
   "source": [
    "cluster_data=cluster_data.drop('Unnamed: 0',axis=1)"
   ]
  },
  {
   "cell_type": "code",
   "execution_count": 332,
   "id": "72ed0035",
   "metadata": {},
   "outputs": [],
   "source": [
    "X=cluster_data.values\n",
    "y =train.credit"
   ]
  },
  {
   "cell_type": "code",
   "execution_count": 333,
   "id": "dec7fdd0",
   "metadata": {},
   "outputs": [],
   "source": [
    "from sklearn.preprocessing import StandardScaler\n",
    "standard_scaler = StandardScaler()\n",
    "X = standard_scaler.fit_transform(X)"
   ]
  },
  {
   "cell_type": "code",
   "execution_count": 334,
   "id": "ad075e55",
   "metadata": {},
   "outputs": [
    {
     "name": "stdout",
     "output_type": "stream",
     "text": [
      "8918\n",
      "8918\n",
      "3822\n",
      "3822\n"
     ]
    }
   ],
   "source": [
    "from sklearn.model_selection import train_test_split\n",
    "training_data, validation_data , training_labels, validation_labels = train_test_split(X, y, test_size = 0.3, random_state = 2022)\n",
    "print(len(training_data))\n",
    "print(len(training_labels))\n",
    "\n",
    "print(len(validation_data))\n",
    "print(len(validation_labels))"
   ]
  },
  {
   "cell_type": "code",
   "execution_count": 335,
   "id": "e63ff083",
   "metadata": {},
   "outputs": [],
   "source": [
    "from imblearn.over_sampling import SMOTE\n",
    "training_data, training_labels = SMOTE(random_state=0).fit_resample(training_data, training_labels)"
   ]
  },
  {
   "cell_type": "code",
   "execution_count": 336,
   "id": "71237aba",
   "metadata": {},
   "outputs": [
    {
     "data": {
      "text/plain": [
       "0    7785\n",
       "1    7785\n",
       "Name: credit, dtype: int64"
      ]
     },
     "execution_count": 336,
     "metadata": {},
     "output_type": "execute_result"
    }
   ],
   "source": [
    "training_labels.value_counts()"
   ]
  },
  {
   "cell_type": "code",
   "execution_count": 337,
   "id": "a4fa1f26",
   "metadata": {},
   "outputs": [],
   "source": [
    "from sklearn.linear_model import LogisticRegression"
   ]
  },
  {
   "cell_type": "code",
   "execution_count": 338,
   "id": "04d86b1f",
   "metadata": {},
   "outputs": [],
   "source": [
    "import numpy as np\n",
    "from sklearn import linear_model, datasets\n",
    "from sklearn.model_selection import GridSearchCV\n",
    "\n",
    "features = training_data\n",
    "target = training_labels\n",
    "logistic = linear_model.LogisticRegression()\n",
    "penalty = ['l1','l2'] # 페널티(penalty) 하이퍼파라미터 값의 후보를 만듭니다.\n",
    "C = np.logspace(0, 4, 20) # 규제 하이퍼파라미터 값의 후보 범위를 만듭니다.\n",
    "hyperparameters = dict(C=C, penalty=penalty) # 하이퍼파라미터 후보 딕셔너리를 만듭니다."
   ]
  },
  {
   "cell_type": "code",
   "execution_count": 339,
   "id": "36b66de3",
   "metadata": {},
   "outputs": [
    {
     "data": {
      "text/plain": [
       "array([1.00000000e+00, 1.62377674e+00, 2.63665090e+00, 4.28133240e+00,\n",
       "       6.95192796e+00, 1.12883789e+01, 1.83298071e+01, 2.97635144e+01,\n",
       "       4.83293024e+01, 7.84759970e+01, 1.27427499e+02, 2.06913808e+02,\n",
       "       3.35981829e+02, 5.45559478e+02, 8.85866790e+02, 1.43844989e+03,\n",
       "       2.33572147e+03, 3.79269019e+03, 6.15848211e+03, 1.00000000e+04])"
      ]
     },
     "execution_count": 339,
     "metadata": {},
     "output_type": "execute_result"
    }
   ],
   "source": [
    "gridsearch = GridSearchCV(logistic, hyperparameters, cv=5, verbose=0) # 그리드 서치 객체 생성\n",
    "best_model = gridsearch.fit(features, target) # 그리드 서치 수행 \n",
    "\n",
    "np.logspace(0, 4, 20)\n"
   ]
  },
  {
   "cell_type": "code",
   "execution_count": 340,
   "id": "38f6f50a",
   "metadata": {},
   "outputs": [
    {
     "name": "stdout",
     "output_type": "stream",
     "text": [
      "가장 좋은 페널티: l2\n",
      "가장 좋은 C 값: 11.28837891684689\n"
     ]
    }
   ],
   "source": [
    "# 최선의 하이퍼파라미터를 확인합니다.\n",
    "print('가장 좋은 페널티:', best_model.best_estimator_.get_params()['penalty'])\n",
    "print('가장 좋은 C 값:', best_model.best_estimator_.get_params()['C'])\n"
   ]
  },
  {
   "cell_type": "code",
   "execution_count": 341,
   "id": "d3d11d76",
   "metadata": {},
   "outputs": [
    {
     "name": "stdout",
     "output_type": "stream",
     "text": [
      "0.510727367870225\n"
     ]
    }
   ],
   "source": [
    "print(best_model.score(validation_data,validation_labels))"
   ]
  },
  {
   "cell_type": "code",
   "execution_count": 342,
   "id": "72c16d9e",
   "metadata": {},
   "outputs": [
    {
     "data": {
      "text/plain": [
       "array([0, 1, 1, ..., 1, 1, 1])"
      ]
     },
     "execution_count": 342,
     "metadata": {},
     "output_type": "execute_result"
    }
   ],
   "source": [
    "y_pred = best_model.predict(validation_data)\n",
    "y_pred"
   ]
  },
  {
   "cell_type": "code",
   "execution_count": 343,
   "id": "b6051f61",
   "metadata": {},
   "outputs": [],
   "source": [
    "pred=pd.DataFrame(y_pred)"
   ]
  },
  {
   "cell_type": "code",
   "execution_count": 344,
   "id": "fa30be76",
   "metadata": {},
   "outputs": [
    {
     "data": {
      "text/plain": [
       "1    1917\n",
       "0    1905\n",
       "dtype: int64"
      ]
     },
     "execution_count": 344,
     "metadata": {},
     "output_type": "execute_result"
    }
   ],
   "source": [
    "pred.value_counts()"
   ]
  },
  {
   "cell_type": "code",
   "execution_count": null,
   "id": "6c087daf",
   "metadata": {},
   "outputs": [],
   "source": []
  },
  {
   "cell_type": "code",
   "execution_count": null,
   "id": "aa4eacc1",
   "metadata": {},
   "outputs": [],
   "source": []
  }
 ],
 "metadata": {
  "kernelspec": {
   "display_name": "Python 3",
   "language": "python",
   "name": "python3"
  },
  "language_info": {
   "codemirror_mode": {
    "name": "ipython",
    "version": 3
   },
   "file_extension": ".py",
   "mimetype": "text/x-python",
   "name": "python",
   "nbconvert_exporter": "python",
   "pygments_lexer": "ipython3",
   "version": "3.9.4"
  }
 },
 "nbformat": 4,
 "nbformat_minor": 5
}
