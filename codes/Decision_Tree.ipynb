{
 "cells": [
  {
   "cell_type": "code",
   "execution_count": 189,
   "id": "7986f6c1",
   "metadata": {},
   "outputs": [],
   "source": [
    "import pandas as pd"
   ]
  },
  {
   "cell_type": "code",
   "execution_count": 190,
   "id": "6da5a07a",
   "metadata": {},
   "outputs": [],
   "source": [
    "import warnings\n",
    "warnings.filterwarnings(action='ignore')"
   ]
  },
  {
   "cell_type": "code",
   "execution_count": 191,
   "id": "cd61e15e",
   "metadata": {},
   "outputs": [],
   "source": [
    "import numpy as np"
   ]
  },
  {
   "cell_type": "markdown",
   "id": "d078b7ef",
   "metadata": {},
   "source": [
    "# 기본"
   ]
  },
  {
   "cell_type": "code",
   "execution_count": 279,
   "id": "5ba55975",
   "metadata": {},
   "outputs": [],
   "source": [
    "train=pd.read_csv('re_train.csv')"
   ]
  },
  {
   "cell_type": "code",
   "execution_count": 280,
   "id": "321af2e8",
   "metadata": {},
   "outputs": [],
   "source": [
    "test_data=pd.read_csv('test.csv')"
   ]
  },
  {
   "cell_type": "code",
   "execution_count": 281,
   "id": "29f4b766",
   "metadata": {},
   "outputs": [],
   "source": [
    "train=train.drop('Unnamed: 0',axis=1)"
   ]
  },
  {
   "cell_type": "code",
   "execution_count": 282,
   "id": "bc5dc87c",
   "metadata": {},
   "outputs": [
    {
     "data": {
      "text/html": [
       "<div>\n",
       "<style scoped>\n",
       "    .dataframe tbody tr th:only-of-type {\n",
       "        vertical-align: middle;\n",
       "    }\n",
       "\n",
       "    .dataframe tbody tr th {\n",
       "        vertical-align: top;\n",
       "    }\n",
       "\n",
       "    .dataframe thead th {\n",
       "        text-align: right;\n",
       "    }\n",
       "</style>\n",
       "<table border=\"1\" class=\"dataframe\">\n",
       "  <thead>\n",
       "    <tr style=\"text-align: right;\">\n",
       "      <th></th>\n",
       "      <th>credit</th>\n",
       "      <th>gender</th>\n",
       "      <th>car</th>\n",
       "      <th>reality</th>\n",
       "      <th>child_num</th>\n",
       "      <th>income_total</th>\n",
       "      <th>income_type</th>\n",
       "      <th>edu_type</th>\n",
       "      <th>family_type</th>\n",
       "      <th>house_type</th>\n",
       "      <th>DAYS_BIRTH</th>\n",
       "      <th>DAYS_EMPLOYED</th>\n",
       "      <th>work_phone</th>\n",
       "      <th>phone</th>\n",
       "      <th>email</th>\n",
       "      <th>occyp_type</th>\n",
       "      <th>family_size</th>\n",
       "      <th>begin_month</th>\n",
       "    </tr>\n",
       "  </thead>\n",
       "  <tbody>\n",
       "    <tr>\n",
       "      <th>0</th>\n",
       "      <td>1</td>\n",
       "      <td>F</td>\n",
       "      <td>Y</td>\n",
       "      <td>Y</td>\n",
       "      <td>0</td>\n",
       "      <td>202500.0</td>\n",
       "      <td>Pensioner</td>\n",
       "      <td>Secondary / secondary special</td>\n",
       "      <td>Married</td>\n",
       "      <td>House / apartment</td>\n",
       "      <td>-19031</td>\n",
       "      <td>1</td>\n",
       "      <td>0</td>\n",
       "      <td>0</td>\n",
       "      <td>0</td>\n",
       "      <td>No</td>\n",
       "      <td>2</td>\n",
       "      <td>-53</td>\n",
       "    </tr>\n",
       "    <tr>\n",
       "      <th>1</th>\n",
       "      <td>0</td>\n",
       "      <td>F</td>\n",
       "      <td>N</td>\n",
       "      <td>N</td>\n",
       "      <td>1</td>\n",
       "      <td>157500.0</td>\n",
       "      <td>Working</td>\n",
       "      <td>Higher education</td>\n",
       "      <td>Married</td>\n",
       "      <td>House / apartment</td>\n",
       "      <td>-15773</td>\n",
       "      <td>-309</td>\n",
       "      <td>0</td>\n",
       "      <td>1</td>\n",
       "      <td>0</td>\n",
       "      <td>Sales staff</td>\n",
       "      <td>3</td>\n",
       "      <td>-26</td>\n",
       "    </tr>\n",
       "    <tr>\n",
       "      <th>2</th>\n",
       "      <td>1</td>\n",
       "      <td>M</td>\n",
       "      <td>Y</td>\n",
       "      <td>N</td>\n",
       "      <td>0</td>\n",
       "      <td>135000.0</td>\n",
       "      <td>Working</td>\n",
       "      <td>Secondary / secondary special</td>\n",
       "      <td>Married</td>\n",
       "      <td>House / apartment</td>\n",
       "      <td>-13483</td>\n",
       "      <td>-1816</td>\n",
       "      <td>1</td>\n",
       "      <td>1</td>\n",
       "      <td>0</td>\n",
       "      <td>Laborers</td>\n",
       "      <td>2</td>\n",
       "      <td>-9</td>\n",
       "    </tr>\n",
       "    <tr>\n",
       "      <th>3</th>\n",
       "      <td>1</td>\n",
       "      <td>F</td>\n",
       "      <td>Y</td>\n",
       "      <td>N</td>\n",
       "      <td>2</td>\n",
       "      <td>112500.0</td>\n",
       "      <td>Working</td>\n",
       "      <td>Secondary / secondary special</td>\n",
       "      <td>Married</td>\n",
       "      <td>House / apartment</td>\n",
       "      <td>-12270</td>\n",
       "      <td>-150</td>\n",
       "      <td>0</td>\n",
       "      <td>1</td>\n",
       "      <td>0</td>\n",
       "      <td>Security staff</td>\n",
       "      <td>4</td>\n",
       "      <td>-12</td>\n",
       "    </tr>\n",
       "    <tr>\n",
       "      <th>4</th>\n",
       "      <td>1</td>\n",
       "      <td>M</td>\n",
       "      <td>Y</td>\n",
       "      <td>Y</td>\n",
       "      <td>1</td>\n",
       "      <td>225000.0</td>\n",
       "      <td>Working</td>\n",
       "      <td>Secondary / secondary special</td>\n",
       "      <td>Married</td>\n",
       "      <td>House / apartment</td>\n",
       "      <td>-16175</td>\n",
       "      <td>-2371</td>\n",
       "      <td>0</td>\n",
       "      <td>0</td>\n",
       "      <td>0</td>\n",
       "      <td>Drivers</td>\n",
       "      <td>3</td>\n",
       "      <td>-3</td>\n",
       "    </tr>\n",
       "    <tr>\n",
       "      <th>...</th>\n",
       "      <td>...</td>\n",
       "      <td>...</td>\n",
       "      <td>...</td>\n",
       "      <td>...</td>\n",
       "      <td>...</td>\n",
       "      <td>...</td>\n",
       "      <td>...</td>\n",
       "      <td>...</td>\n",
       "      <td>...</td>\n",
       "      <td>...</td>\n",
       "      <td>...</td>\n",
       "      <td>...</td>\n",
       "      <td>...</td>\n",
       "      <td>...</td>\n",
       "      <td>...</td>\n",
       "      <td>...</td>\n",
       "      <td>...</td>\n",
       "      <td>...</td>\n",
       "    </tr>\n",
       "    <tr>\n",
       "      <th>12735</th>\n",
       "      <td>1</td>\n",
       "      <td>F</td>\n",
       "      <td>Y</td>\n",
       "      <td>Y</td>\n",
       "      <td>0</td>\n",
       "      <td>180000.0</td>\n",
       "      <td>Commercial associate</td>\n",
       "      <td>Secondary / secondary special</td>\n",
       "      <td>Married</td>\n",
       "      <td>House / apartment</td>\n",
       "      <td>-10562</td>\n",
       "      <td>-3109</td>\n",
       "      <td>0</td>\n",
       "      <td>0</td>\n",
       "      <td>0</td>\n",
       "      <td>Accountants</td>\n",
       "      <td>2</td>\n",
       "      <td>-26</td>\n",
       "    </tr>\n",
       "    <tr>\n",
       "      <th>12736</th>\n",
       "      <td>1</td>\n",
       "      <td>F</td>\n",
       "      <td>N</td>\n",
       "      <td>N</td>\n",
       "      <td>0</td>\n",
       "      <td>225000.0</td>\n",
       "      <td>Working</td>\n",
       "      <td>Secondary / secondary special</td>\n",
       "      <td>Widow</td>\n",
       "      <td>House / apartment</td>\n",
       "      <td>-20657</td>\n",
       "      <td>-5637</td>\n",
       "      <td>0</td>\n",
       "      <td>0</td>\n",
       "      <td>0</td>\n",
       "      <td>Accountants</td>\n",
       "      <td>1</td>\n",
       "      <td>-43</td>\n",
       "    </tr>\n",
       "    <tr>\n",
       "      <th>12737</th>\n",
       "      <td>1</td>\n",
       "      <td>F</td>\n",
       "      <td>N</td>\n",
       "      <td>Y</td>\n",
       "      <td>0</td>\n",
       "      <td>135000.0</td>\n",
       "      <td>Working</td>\n",
       "      <td>Secondary / secondary special</td>\n",
       "      <td>Civil marriage</td>\n",
       "      <td>House / apartment</td>\n",
       "      <td>-14625</td>\n",
       "      <td>-7827</td>\n",
       "      <td>0</td>\n",
       "      <td>1</td>\n",
       "      <td>1</td>\n",
       "      <td>Unknown</td>\n",
       "      <td>2</td>\n",
       "      <td>-34</td>\n",
       "    </tr>\n",
       "    <tr>\n",
       "      <th>12738</th>\n",
       "      <td>1</td>\n",
       "      <td>M</td>\n",
       "      <td>N</td>\n",
       "      <td>Y</td>\n",
       "      <td>1</td>\n",
       "      <td>157500.0</td>\n",
       "      <td>Commercial associate</td>\n",
       "      <td>Secondary / secondary special</td>\n",
       "      <td>Married</td>\n",
       "      <td>House / apartment</td>\n",
       "      <td>-10676</td>\n",
       "      <td>-2326</td>\n",
       "      <td>0</td>\n",
       "      <td>1</td>\n",
       "      <td>1</td>\n",
       "      <td>Laborers</td>\n",
       "      <td>3</td>\n",
       "      <td>-16</td>\n",
       "    </tr>\n",
       "    <tr>\n",
       "      <th>12739</th>\n",
       "      <td>1</td>\n",
       "      <td>F</td>\n",
       "      <td>Y</td>\n",
       "      <td>Y</td>\n",
       "      <td>2</td>\n",
       "      <td>67500.0</td>\n",
       "      <td>Working</td>\n",
       "      <td>Higher education</td>\n",
       "      <td>Married</td>\n",
       "      <td>House / apartment</td>\n",
       "      <td>-11925</td>\n",
       "      <td>-1621</td>\n",
       "      <td>0</td>\n",
       "      <td>0</td>\n",
       "      <td>0</td>\n",
       "      <td>Unknown</td>\n",
       "      <td>4</td>\n",
       "      <td>-4</td>\n",
       "    </tr>\n",
       "  </tbody>\n",
       "</table>\n",
       "<p>12740 rows × 18 columns</p>\n",
       "</div>"
      ],
      "text/plain": [
       "       credit gender car reality  child_num  income_total  \\\n",
       "0           1      F   Y       Y          0      202500.0   \n",
       "1           0      F   N       N          1      157500.0   \n",
       "2           1      M   Y       N          0      135000.0   \n",
       "3           1      F   Y       N          2      112500.0   \n",
       "4           1      M   Y       Y          1      225000.0   \n",
       "...       ...    ...  ..     ...        ...           ...   \n",
       "12735       1      F   Y       Y          0      180000.0   \n",
       "12736       1      F   N       N          0      225000.0   \n",
       "12737       1      F   N       Y          0      135000.0   \n",
       "12738       1      M   N       Y          1      157500.0   \n",
       "12739       1      F   Y       Y          2       67500.0   \n",
       "\n",
       "                income_type                       edu_type     family_type  \\\n",
       "0                 Pensioner  Secondary / secondary special         Married   \n",
       "1                   Working               Higher education         Married   \n",
       "2                   Working  Secondary / secondary special         Married   \n",
       "3                   Working  Secondary / secondary special         Married   \n",
       "4                   Working  Secondary / secondary special         Married   \n",
       "...                     ...                            ...             ...   \n",
       "12735  Commercial associate  Secondary / secondary special         Married   \n",
       "12736               Working  Secondary / secondary special           Widow   \n",
       "12737               Working  Secondary / secondary special  Civil marriage   \n",
       "12738  Commercial associate  Secondary / secondary special         Married   \n",
       "12739               Working               Higher education         Married   \n",
       "\n",
       "              house_type  DAYS_BIRTH  DAYS_EMPLOYED  work_phone  phone  email  \\\n",
       "0      House / apartment      -19031              1           0      0      0   \n",
       "1      House / apartment      -15773           -309           0      1      0   \n",
       "2      House / apartment      -13483          -1816           1      1      0   \n",
       "3      House / apartment      -12270           -150           0      1      0   \n",
       "4      House / apartment      -16175          -2371           0      0      0   \n",
       "...                  ...         ...            ...         ...    ...    ...   \n",
       "12735  House / apartment      -10562          -3109           0      0      0   \n",
       "12736  House / apartment      -20657          -5637           0      0      0   \n",
       "12737  House / apartment      -14625          -7827           0      1      1   \n",
       "12738  House / apartment      -10676          -2326           0      1      1   \n",
       "12739  House / apartment      -11925          -1621           0      0      0   \n",
       "\n",
       "           occyp_type  family_size  begin_month  \n",
       "0                  No            2          -53  \n",
       "1         Sales staff            3          -26  \n",
       "2            Laborers            2           -9  \n",
       "3      Security staff            4          -12  \n",
       "4             Drivers            3           -3  \n",
       "...               ...          ...          ...  \n",
       "12735     Accountants            2          -26  \n",
       "12736     Accountants            1          -43  \n",
       "12737         Unknown            2          -34  \n",
       "12738        Laborers            3          -16  \n",
       "12739         Unknown            4           -4  \n",
       "\n",
       "[12740 rows x 18 columns]"
      ]
     },
     "execution_count": 282,
     "metadata": {},
     "output_type": "execute_result"
    }
   ],
   "source": [
    "train"
   ]
  },
  {
   "cell_type": "code",
   "execution_count": 283,
   "id": "18c4d2ca",
   "metadata": {},
   "outputs": [],
   "source": [
    "train=pd.get_dummies(train, columns = ['gender','car','reality','income_type','edu_type','family_type','house_type',\n",
    "                                       'occyp_type'])\n"
   ]
  },
  {
   "cell_type": "code",
   "execution_count": 306,
   "id": "ea1420bb",
   "metadata": {},
   "outputs": [
    {
     "data": {
      "text/plain": [
       "Index(['credit', 'child_num', 'income_total', 'DAYS_BIRTH', 'DAYS_EMPLOYED',\n",
       "       'work_phone', 'phone', 'email', 'family_size', 'begin_month',\n",
       "       'gender_F', 'gender_M', 'car_N', 'car_Y', 'reality_N', 'reality_Y',\n",
       "       'income_type_Commercial associate', 'income_type_Pensioner',\n",
       "       'income_type_State servant', 'income_type_Student',\n",
       "       'income_type_Working', 'edu_type_Academic degree',\n",
       "       'edu_type_Higher education', 'edu_type_Incomplete higher',\n",
       "       'edu_type_Lower secondary', 'edu_type_Secondary / secondary special',\n",
       "       'family_type_Civil marriage', 'family_type_Married',\n",
       "       'family_type_Separated', 'family_type_Single / not married',\n",
       "       'family_type_Widow', 'house_type_Co-op apartment',\n",
       "       'house_type_House / apartment', 'house_type_Municipal apartment',\n",
       "       'house_type_Office apartment', 'house_type_Rented apartment',\n",
       "       'house_type_With parents', 'occyp_type_Accountants',\n",
       "       'occyp_type_Cleaning staff', 'occyp_type_Cooking staff',\n",
       "       'occyp_type_Core staff', 'occyp_type_Drivers', 'occyp_type_HR staff',\n",
       "       'occyp_type_High skill tech staff', 'occyp_type_IT staff',\n",
       "       'occyp_type_Laborers', 'occyp_type_Low-skill Laborers',\n",
       "       'occyp_type_Managers', 'occyp_type_Medicine staff', 'occyp_type_No',\n",
       "       'occyp_type_Private service staff', 'occyp_type_Realty agents',\n",
       "       'occyp_type_Sales staff', 'occyp_type_Secretaries',\n",
       "       'occyp_type_Security staff', 'occyp_type_Unknown',\n",
       "       'occyp_type_Waiters/barmen staff'],\n",
       "      dtype='object')"
      ]
     },
     "execution_count": 306,
     "metadata": {},
     "output_type": "execute_result"
    }
   ],
   "source": [
    "train.columns"
   ]
  },
  {
   "cell_type": "code",
   "execution_count": 285,
   "id": "203107f1",
   "metadata": {},
   "outputs": [],
   "source": [
    "X=train.drop('credit',axis=1)\n",
    "y =train.credit"
   ]
  },
  {
   "cell_type": "code",
   "execution_count": 286,
   "id": "e720a3a8",
   "metadata": {},
   "outputs": [
    {
     "data": {
      "text/html": [
       "<div>\n",
       "<style scoped>\n",
       "    .dataframe tbody tr th:only-of-type {\n",
       "        vertical-align: middle;\n",
       "    }\n",
       "\n",
       "    .dataframe tbody tr th {\n",
       "        vertical-align: top;\n",
       "    }\n",
       "\n",
       "    .dataframe thead th {\n",
       "        text-align: right;\n",
       "    }\n",
       "</style>\n",
       "<table border=\"1\" class=\"dataframe\">\n",
       "  <thead>\n",
       "    <tr style=\"text-align: right;\">\n",
       "      <th></th>\n",
       "      <th>child_num</th>\n",
       "      <th>income_total</th>\n",
       "      <th>DAYS_BIRTH</th>\n",
       "      <th>DAYS_EMPLOYED</th>\n",
       "      <th>work_phone</th>\n",
       "      <th>phone</th>\n",
       "      <th>email</th>\n",
       "      <th>family_size</th>\n",
       "      <th>begin_month</th>\n",
       "      <th>gender_F</th>\n",
       "      <th>...</th>\n",
       "      <th>occyp_type_Managers</th>\n",
       "      <th>occyp_type_Medicine staff</th>\n",
       "      <th>occyp_type_No</th>\n",
       "      <th>occyp_type_Private service staff</th>\n",
       "      <th>occyp_type_Realty agents</th>\n",
       "      <th>occyp_type_Sales staff</th>\n",
       "      <th>occyp_type_Secretaries</th>\n",
       "      <th>occyp_type_Security staff</th>\n",
       "      <th>occyp_type_Unknown</th>\n",
       "      <th>occyp_type_Waiters/barmen staff</th>\n",
       "    </tr>\n",
       "  </thead>\n",
       "  <tbody>\n",
       "    <tr>\n",
       "      <th>0</th>\n",
       "      <td>0</td>\n",
       "      <td>202500.0</td>\n",
       "      <td>-19031</td>\n",
       "      <td>1</td>\n",
       "      <td>0</td>\n",
       "      <td>0</td>\n",
       "      <td>0</td>\n",
       "      <td>2</td>\n",
       "      <td>-53</td>\n",
       "      <td>1</td>\n",
       "      <td>...</td>\n",
       "      <td>0</td>\n",
       "      <td>0</td>\n",
       "      <td>1</td>\n",
       "      <td>0</td>\n",
       "      <td>0</td>\n",
       "      <td>0</td>\n",
       "      <td>0</td>\n",
       "      <td>0</td>\n",
       "      <td>0</td>\n",
       "      <td>0</td>\n",
       "    </tr>\n",
       "    <tr>\n",
       "      <th>1</th>\n",
       "      <td>1</td>\n",
       "      <td>157500.0</td>\n",
       "      <td>-15773</td>\n",
       "      <td>-309</td>\n",
       "      <td>0</td>\n",
       "      <td>1</td>\n",
       "      <td>0</td>\n",
       "      <td>3</td>\n",
       "      <td>-26</td>\n",
       "      <td>1</td>\n",
       "      <td>...</td>\n",
       "      <td>0</td>\n",
       "      <td>0</td>\n",
       "      <td>0</td>\n",
       "      <td>0</td>\n",
       "      <td>0</td>\n",
       "      <td>1</td>\n",
       "      <td>0</td>\n",
       "      <td>0</td>\n",
       "      <td>0</td>\n",
       "      <td>0</td>\n",
       "    </tr>\n",
       "    <tr>\n",
       "      <th>2</th>\n",
       "      <td>0</td>\n",
       "      <td>135000.0</td>\n",
       "      <td>-13483</td>\n",
       "      <td>-1816</td>\n",
       "      <td>1</td>\n",
       "      <td>1</td>\n",
       "      <td>0</td>\n",
       "      <td>2</td>\n",
       "      <td>-9</td>\n",
       "      <td>0</td>\n",
       "      <td>...</td>\n",
       "      <td>0</td>\n",
       "      <td>0</td>\n",
       "      <td>0</td>\n",
       "      <td>0</td>\n",
       "      <td>0</td>\n",
       "      <td>0</td>\n",
       "      <td>0</td>\n",
       "      <td>0</td>\n",
       "      <td>0</td>\n",
       "      <td>0</td>\n",
       "    </tr>\n",
       "    <tr>\n",
       "      <th>3</th>\n",
       "      <td>2</td>\n",
       "      <td>112500.0</td>\n",
       "      <td>-12270</td>\n",
       "      <td>-150</td>\n",
       "      <td>0</td>\n",
       "      <td>1</td>\n",
       "      <td>0</td>\n",
       "      <td>4</td>\n",
       "      <td>-12</td>\n",
       "      <td>1</td>\n",
       "      <td>...</td>\n",
       "      <td>0</td>\n",
       "      <td>0</td>\n",
       "      <td>0</td>\n",
       "      <td>0</td>\n",
       "      <td>0</td>\n",
       "      <td>0</td>\n",
       "      <td>0</td>\n",
       "      <td>1</td>\n",
       "      <td>0</td>\n",
       "      <td>0</td>\n",
       "    </tr>\n",
       "    <tr>\n",
       "      <th>4</th>\n",
       "      <td>1</td>\n",
       "      <td>225000.0</td>\n",
       "      <td>-16175</td>\n",
       "      <td>-2371</td>\n",
       "      <td>0</td>\n",
       "      <td>0</td>\n",
       "      <td>0</td>\n",
       "      <td>3</td>\n",
       "      <td>-3</td>\n",
       "      <td>0</td>\n",
       "      <td>...</td>\n",
       "      <td>0</td>\n",
       "      <td>0</td>\n",
       "      <td>0</td>\n",
       "      <td>0</td>\n",
       "      <td>0</td>\n",
       "      <td>0</td>\n",
       "      <td>0</td>\n",
       "      <td>0</td>\n",
       "      <td>0</td>\n",
       "      <td>0</td>\n",
       "    </tr>\n",
       "    <tr>\n",
       "      <th>...</th>\n",
       "      <td>...</td>\n",
       "      <td>...</td>\n",
       "      <td>...</td>\n",
       "      <td>...</td>\n",
       "      <td>...</td>\n",
       "      <td>...</td>\n",
       "      <td>...</td>\n",
       "      <td>...</td>\n",
       "      <td>...</td>\n",
       "      <td>...</td>\n",
       "      <td>...</td>\n",
       "      <td>...</td>\n",
       "      <td>...</td>\n",
       "      <td>...</td>\n",
       "      <td>...</td>\n",
       "      <td>...</td>\n",
       "      <td>...</td>\n",
       "      <td>...</td>\n",
       "      <td>...</td>\n",
       "      <td>...</td>\n",
       "      <td>...</td>\n",
       "    </tr>\n",
       "    <tr>\n",
       "      <th>12735</th>\n",
       "      <td>0</td>\n",
       "      <td>180000.0</td>\n",
       "      <td>-10562</td>\n",
       "      <td>-3109</td>\n",
       "      <td>0</td>\n",
       "      <td>0</td>\n",
       "      <td>0</td>\n",
       "      <td>2</td>\n",
       "      <td>-26</td>\n",
       "      <td>1</td>\n",
       "      <td>...</td>\n",
       "      <td>0</td>\n",
       "      <td>0</td>\n",
       "      <td>0</td>\n",
       "      <td>0</td>\n",
       "      <td>0</td>\n",
       "      <td>0</td>\n",
       "      <td>0</td>\n",
       "      <td>0</td>\n",
       "      <td>0</td>\n",
       "      <td>0</td>\n",
       "    </tr>\n",
       "    <tr>\n",
       "      <th>12736</th>\n",
       "      <td>0</td>\n",
       "      <td>225000.0</td>\n",
       "      <td>-20657</td>\n",
       "      <td>-5637</td>\n",
       "      <td>0</td>\n",
       "      <td>0</td>\n",
       "      <td>0</td>\n",
       "      <td>1</td>\n",
       "      <td>-43</td>\n",
       "      <td>1</td>\n",
       "      <td>...</td>\n",
       "      <td>0</td>\n",
       "      <td>0</td>\n",
       "      <td>0</td>\n",
       "      <td>0</td>\n",
       "      <td>0</td>\n",
       "      <td>0</td>\n",
       "      <td>0</td>\n",
       "      <td>0</td>\n",
       "      <td>0</td>\n",
       "      <td>0</td>\n",
       "    </tr>\n",
       "    <tr>\n",
       "      <th>12737</th>\n",
       "      <td>0</td>\n",
       "      <td>135000.0</td>\n",
       "      <td>-14625</td>\n",
       "      <td>-7827</td>\n",
       "      <td>0</td>\n",
       "      <td>1</td>\n",
       "      <td>1</td>\n",
       "      <td>2</td>\n",
       "      <td>-34</td>\n",
       "      <td>1</td>\n",
       "      <td>...</td>\n",
       "      <td>0</td>\n",
       "      <td>0</td>\n",
       "      <td>0</td>\n",
       "      <td>0</td>\n",
       "      <td>0</td>\n",
       "      <td>0</td>\n",
       "      <td>0</td>\n",
       "      <td>0</td>\n",
       "      <td>1</td>\n",
       "      <td>0</td>\n",
       "    </tr>\n",
       "    <tr>\n",
       "      <th>12738</th>\n",
       "      <td>1</td>\n",
       "      <td>157500.0</td>\n",
       "      <td>-10676</td>\n",
       "      <td>-2326</td>\n",
       "      <td>0</td>\n",
       "      <td>1</td>\n",
       "      <td>1</td>\n",
       "      <td>3</td>\n",
       "      <td>-16</td>\n",
       "      <td>0</td>\n",
       "      <td>...</td>\n",
       "      <td>0</td>\n",
       "      <td>0</td>\n",
       "      <td>0</td>\n",
       "      <td>0</td>\n",
       "      <td>0</td>\n",
       "      <td>0</td>\n",
       "      <td>0</td>\n",
       "      <td>0</td>\n",
       "      <td>0</td>\n",
       "      <td>0</td>\n",
       "    </tr>\n",
       "    <tr>\n",
       "      <th>12739</th>\n",
       "      <td>2</td>\n",
       "      <td>67500.0</td>\n",
       "      <td>-11925</td>\n",
       "      <td>-1621</td>\n",
       "      <td>0</td>\n",
       "      <td>0</td>\n",
       "      <td>0</td>\n",
       "      <td>4</td>\n",
       "      <td>-4</td>\n",
       "      <td>1</td>\n",
       "      <td>...</td>\n",
       "      <td>0</td>\n",
       "      <td>0</td>\n",
       "      <td>0</td>\n",
       "      <td>0</td>\n",
       "      <td>0</td>\n",
       "      <td>0</td>\n",
       "      <td>0</td>\n",
       "      <td>0</td>\n",
       "      <td>1</td>\n",
       "      <td>0</td>\n",
       "    </tr>\n",
       "  </tbody>\n",
       "</table>\n",
       "<p>12740 rows × 56 columns</p>\n",
       "</div>"
      ],
      "text/plain": [
       "       child_num  income_total  DAYS_BIRTH  DAYS_EMPLOYED  work_phone  phone  \\\n",
       "0              0      202500.0      -19031              1           0      0   \n",
       "1              1      157500.0      -15773           -309           0      1   \n",
       "2              0      135000.0      -13483          -1816           1      1   \n",
       "3              2      112500.0      -12270           -150           0      1   \n",
       "4              1      225000.0      -16175          -2371           0      0   \n",
       "...          ...           ...         ...            ...         ...    ...   \n",
       "12735          0      180000.0      -10562          -3109           0      0   \n",
       "12736          0      225000.0      -20657          -5637           0      0   \n",
       "12737          0      135000.0      -14625          -7827           0      1   \n",
       "12738          1      157500.0      -10676          -2326           0      1   \n",
       "12739          2       67500.0      -11925          -1621           0      0   \n",
       "\n",
       "       email  family_size  begin_month  gender_F  ...  occyp_type_Managers  \\\n",
       "0          0            2          -53         1  ...                    0   \n",
       "1          0            3          -26         1  ...                    0   \n",
       "2          0            2           -9         0  ...                    0   \n",
       "3          0            4          -12         1  ...                    0   \n",
       "4          0            3           -3         0  ...                    0   \n",
       "...      ...          ...          ...       ...  ...                  ...   \n",
       "12735      0            2          -26         1  ...                    0   \n",
       "12736      0            1          -43         1  ...                    0   \n",
       "12737      1            2          -34         1  ...                    0   \n",
       "12738      1            3          -16         0  ...                    0   \n",
       "12739      0            4           -4         1  ...                    0   \n",
       "\n",
       "       occyp_type_Medicine staff  occyp_type_No  \\\n",
       "0                              0              1   \n",
       "1                              0              0   \n",
       "2                              0              0   \n",
       "3                              0              0   \n",
       "4                              0              0   \n",
       "...                          ...            ...   \n",
       "12735                          0              0   \n",
       "12736                          0              0   \n",
       "12737                          0              0   \n",
       "12738                          0              0   \n",
       "12739                          0              0   \n",
       "\n",
       "       occyp_type_Private service staff  occyp_type_Realty agents  \\\n",
       "0                                     0                         0   \n",
       "1                                     0                         0   \n",
       "2                                     0                         0   \n",
       "3                                     0                         0   \n",
       "4                                     0                         0   \n",
       "...                                 ...                       ...   \n",
       "12735                                 0                         0   \n",
       "12736                                 0                         0   \n",
       "12737                                 0                         0   \n",
       "12738                                 0                         0   \n",
       "12739                                 0                         0   \n",
       "\n",
       "       occyp_type_Sales staff  occyp_type_Secretaries  \\\n",
       "0                           0                       0   \n",
       "1                           1                       0   \n",
       "2                           0                       0   \n",
       "3                           0                       0   \n",
       "4                           0                       0   \n",
       "...                       ...                     ...   \n",
       "12735                       0                       0   \n",
       "12736                       0                       0   \n",
       "12737                       0                       0   \n",
       "12738                       0                       0   \n",
       "12739                       0                       0   \n",
       "\n",
       "       occyp_type_Security staff  occyp_type_Unknown  \\\n",
       "0                              0                   0   \n",
       "1                              0                   0   \n",
       "2                              0                   0   \n",
       "3                              1                   0   \n",
       "4                              0                   0   \n",
       "...                          ...                 ...   \n",
       "12735                          0                   0   \n",
       "12736                          0                   0   \n",
       "12737                          0                   1   \n",
       "12738                          0                   0   \n",
       "12739                          0                   1   \n",
       "\n",
       "       occyp_type_Waiters/barmen staff  \n",
       "0                                    0  \n",
       "1                                    0  \n",
       "2                                    0  \n",
       "3                                    0  \n",
       "4                                    0  \n",
       "...                                ...  \n",
       "12735                                0  \n",
       "12736                                0  \n",
       "12737                                0  \n",
       "12738                                0  \n",
       "12739                                0  \n",
       "\n",
       "[12740 rows x 56 columns]"
      ]
     },
     "execution_count": 286,
     "metadata": {},
     "output_type": "execute_result"
    }
   ],
   "source": [
    "X"
   ]
  },
  {
   "cell_type": "code",
   "execution_count": 287,
   "id": "a2dcaafc",
   "metadata": {},
   "outputs": [],
   "source": [
    "from sklearn.preprocessing import StandardScaler\n",
    "standard_scaler = StandardScaler()\n",
    "X = standard_scaler.fit_transform(X)"
   ]
  },
  {
   "cell_type": "code",
   "execution_count": 294,
   "id": "f19a7a77",
   "metadata": {},
   "outputs": [
    {
     "data": {
      "text/plain": [
       "array([[-0.57790496,  0.14477371, -0.73134264, ..., -0.1316363 ,\n",
       "        -0.4066768 , -0.06339739],\n",
       "       [ 0.77202338, -0.30521779,  0.04424514, ..., -0.1316363 ,\n",
       "        -0.4066768 , -0.06339739],\n",
       "       [-0.57790496, -0.53021355,  0.58939431, ..., -0.1316363 ,\n",
       "        -0.4066768 , -0.06339739],\n",
       "       ...,\n",
       "       [-0.57790496, -0.53021355,  0.31753389, ..., -0.1316363 ,\n",
       "         2.4589551 , -0.06339739],\n",
       "       [ 0.77202338, -0.30521779,  1.25761865, ..., -0.1316363 ,\n",
       "        -0.4066768 , -0.06339739],\n",
       "       [ 2.12195171, -1.2052008 ,  0.9602862 , ..., -0.1316363 ,\n",
       "         2.4589551 , -0.06339739]])"
      ]
     },
     "execution_count": 294,
     "metadata": {},
     "output_type": "execute_result"
    }
   ],
   "source": [
    "X"
   ]
  },
  {
   "cell_type": "code",
   "execution_count": 297,
   "id": "11cd8098",
   "metadata": {},
   "outputs": [
    {
     "data": {
      "text/plain": [
       "0        1\n",
       "1        0\n",
       "2        1\n",
       "3        1\n",
       "4        1\n",
       "        ..\n",
       "12735    1\n",
       "12736    1\n",
       "12737    1\n",
       "12738    1\n",
       "12739    1\n",
       "Name: credit, Length: 12740, dtype: int64"
      ]
     },
     "execution_count": 297,
     "metadata": {},
     "output_type": "execute_result"
    }
   ],
   "source": [
    "y"
   ]
  },
  {
   "cell_type": "code",
   "execution_count": 295,
   "id": "3256cbfb",
   "metadata": {},
   "outputs": [
    {
     "name": "stdout",
     "output_type": "stream",
     "text": [
      "8918\n",
      "8918\n",
      "3822\n",
      "3822\n"
     ]
    }
   ],
   "source": [
    "from sklearn.model_selection import train_test_split\n",
    "training_data, validation_data , training_labels, validation_labels = train_test_split(X, y, test_size = 0.3, \n",
    "                                                                                       random_state = 2022)\n",
    "print(len(training_data))\n",
    "print(len(training_labels))\n",
    "\n",
    "print(len(validation_data))\n",
    "print(len(validation_labels))"
   ]
  },
  {
   "cell_type": "code",
   "execution_count": 296,
   "id": "53cc7872",
   "metadata": {},
   "outputs": [
    {
     "data": {
      "text/plain": [
       "6387     1\n",
       "10217    1\n",
       "9875     1\n",
       "7492     1\n",
       "1211     1\n",
       "        ..\n",
       "6384     1\n",
       "4720     1\n",
       "173      1\n",
       "1244     1\n",
       "4989     1\n",
       "Name: credit, Length: 8918, dtype: int64"
      ]
     },
     "execution_count": 296,
     "metadata": {},
     "output_type": "execute_result"
    }
   ],
   "source": [
    "training_labels"
   ]
  },
  {
   "cell_type": "code",
   "execution_count": 298,
   "id": "d191b2b6",
   "metadata": {},
   "outputs": [
    {
     "data": {
      "text/plain": [
       "1    7785\n",
       "0    1133\n",
       "Name: credit, dtype: int64"
      ]
     },
     "execution_count": 298,
     "metadata": {},
     "output_type": "execute_result"
    }
   ],
   "source": [
    "training_labels.value_counts()"
   ]
  },
  {
   "cell_type": "code",
   "execution_count": 302,
   "id": "f99b3ab5",
   "metadata": {},
   "outputs": [],
   "source": [
    "from imblearn.over_sampling import SMOTE\n",
    "training_data, training_labels = SMOTE(random_state=0).fit_resample(training_data, training_labels)"
   ]
  },
  {
   "cell_type": "code",
   "execution_count": 303,
   "id": "8b8ef9b1",
   "metadata": {},
   "outputs": [
    {
     "data": {
      "text/plain": [
       "0    7785\n",
       "1    7785\n",
       "Name: credit, dtype: int64"
      ]
     },
     "execution_count": 303,
     "metadata": {},
     "output_type": "execute_result"
    }
   ],
   "source": [
    "training_labels.value_counts()"
   ]
  },
  {
   "cell_type": "code",
   "execution_count": 304,
   "id": "afa958d7",
   "metadata": {},
   "outputs": [
    {
     "data": {
      "text/plain": [
       "(15570, 56)"
      ]
     },
     "execution_count": 304,
     "metadata": {},
     "output_type": "execute_result"
    }
   ],
   "source": [
    "training_data.shape"
   ]
  },
  {
   "cell_type": "code",
   "execution_count": 305,
   "id": "00a11eac",
   "metadata": {},
   "outputs": [
    {
     "data": {
      "text/plain": [
       "(15570,)"
      ]
     },
     "execution_count": 305,
     "metadata": {},
     "output_type": "execute_result"
    }
   ],
   "source": [
    "training_labels.shape"
   ]
  },
  {
   "cell_type": "code",
   "execution_count": 201,
   "id": "cdee60bc",
   "metadata": {},
   "outputs": [],
   "source": [
    "from sklearn.tree import DecisionTreeClassifier\n",
    "from pydotplus import graph_from_dot_data\n",
    "from sklearn.tree import export_graphviz\n",
    "from IPython.display import Image\n",
    "import pydotplus\n",
    "import os\n",
    "import matplotlib.pyplot as plt"
   ]
  },
  {
   "cell_type": "code",
   "execution_count": 202,
   "id": "d2d6b9fb",
   "metadata": {},
   "outputs": [],
   "source": [
    "from sklearn.pipeline import make_pipeline\n",
    "pipe_tree = make_pipeline(DecisionTreeClassifier(random_state=2022))"
   ]
  },
  {
   "cell_type": "code",
   "execution_count": 203,
   "id": "8b143827",
   "metadata": {},
   "outputs": [
    {
     "data": {
      "image/png": "[encoded data removed]",
      "text/plain": [
       "<Figure size 432x288 with 1 Axes>"
      ]
     },
     "metadata": {
      "needs_background": "light"
     },
     "output_type": "display_data"
    }
   ],
   "source": [
    "# 검정곡선: 과대적합 문제 확인\n",
    "from sklearn.model_selection import validation_curve\n",
    "\n",
    "param_range = [1,10,20,30,40] # max_depth 범위 설정\n",
    "train_scores, validation_scores = validation_curve(estimator = pipe_tree, #기본모형 선택\n",
    "                                                   X = training_data,\n",
    "                                                   y = training_labels,\n",
    "                                                   param_name = 'decisiontreeclassifier__max_depth', #pipe_tree.get_params().keys()에서\n",
    "                                                   param_range=param_range,\n",
    "                                                   cv=10)\n",
    "\n",
    "train_mean = np.mean(train_scores, axis = 1)\n",
    "train_std = np.std(train_scores, axis = 1)\n",
    "validation_mean = np.mean(validation_scores, axis = 1)\n",
    "validation_std = np.std(validation_scores, axis = 1)\n",
    "\n",
    "plt.plot(param_range, train_mean,\n",
    "        color='blue', marker='o',\n",
    "        markersize=5, label='training accuracy')\n",
    "plt.fill_between(param_range, \n",
    "                train_mean + train_std,\n",
    "                train_mean - train_std,\n",
    "                alpha=0.15,\n",
    "                color='blue')\n",
    "plt.plot(param_range, validation_mean,\n",
    "        color='green', linestyle='--',\n",
    "        marker='s', markersize=5,\n",
    "        label='validation accuracy')\n",
    "plt.fill_between(param_range,\n",
    "                validation_mean + validation_std,\n",
    "                validation_mean - validation_std,\n",
    "                alpha=0.15, color='green')\n",
    "\n",
    "plt.grid()\n",
    "plt.xlabel('Number of max_depth')\n",
    "plt.legend(loc='lower right')\n",
    "plt.xlabel('Parameter max_depth')\n",
    "plt.ylabel('Accuracy')\n",
    "plt.ylim([0.0, 1.00]) # 보고싶은 구간 설정\n",
    "plt.tight_layout()\n",
    "plt.show()\n",
    "\n"
   ]
  },
  {
   "cell_type": "code",
   "execution_count": 204,
   "id": "fa7d9b70",
   "metadata": {},
   "outputs": [
    {
     "name": "stdout",
     "output_type": "stream",
     "text": [
      "0.784136159280668\n",
      "{'decisiontreeclassifier__criterion': 'gini', 'decisiontreeclassifier__max_depth': 14, 'decisiontreeclassifier__min_samples_leaf': 1}\n"
     ]
    }
   ],
   "source": [
    "from sklearn.model_selection import GridSearchCV\n",
    "\n",
    "param_range1 = [10,11,12,13,14]\n",
    "param_range2 = [1,2,3,4,5]\n",
    "param_range3 = ['gini', 'entropy']\n",
    "\n",
    "param_grid = [{'decisiontreeclassifier__max_depth': param_range1,\n",
    "              'decisiontreeclassifier__min_samples_leaf': param_range2,\n",
    "              'decisiontreeclassifier__criterion': param_range3}]\n",
    "\n",
    "gs = GridSearchCV(estimator = pipe_tree,\n",
    "                 param_grid = param_grid, # 찾고자하는 파라미터. dictionary 형식\n",
    "                 scoring = 'accuracy', \n",
    "                 cv=5,\n",
    "                 n_jobs= -1) # 병렬 처리갯수 -1은 전부를 의미\n",
    "\n",
    "gs = gs.fit(training_data, training_labels)\n",
    "\n",
    "print(gs.best_score_)\n",
    "print(gs.best_params_)"
   ]
  },
  {
   "cell_type": "code",
   "execution_count": 205,
   "id": "847b484d",
   "metadata": {},
   "outputs": [
    {
     "name": "stdout",
     "output_type": "stream",
     "text": [
      "0.6323914181057039\n"
     ]
    }
   ],
   "source": [
    "# 최적의 모델 선택\n",
    "\n",
    "best_tree = gs.best_estimator_ # 최적의 파라미터로 모델 생성\n",
    "print(best_tree.score(validation_data,validation_labels))"
   ]
  },
  {
   "cell_type": "code",
   "execution_count": 206,
   "id": "55f571bd",
   "metadata": {},
   "outputs": [],
   "source": [
    "y_pred = best_tree.predict(validation_data)"
   ]
  },
  {
   "cell_type": "code",
   "execution_count": 207,
   "id": "2946c037",
   "metadata": {},
   "outputs": [
    {
     "data": {
      "text/plain": [
       "array([1, 1, 1, ..., 1, 1, 1])"
      ]
     },
     "execution_count": 207,
     "metadata": {},
     "output_type": "execute_result"
    }
   ],
   "source": [
    "pred=pd.DataFrame(y_pred)\n",
    "y_pred"
   ]
  },
  {
   "cell_type": "code",
   "execution_count": 208,
   "id": "931581ff",
   "metadata": {},
   "outputs": [
    {
     "data": {
      "text/plain": [
       "1    2494\n",
       "0    1328\n",
       "dtype: int64"
      ]
     },
     "execution_count": 208,
     "metadata": {},
     "output_type": "execute_result"
    }
   ],
   "source": [
    "pred.value_counts()"
   ]
  },
  {
   "cell_type": "code",
   "execution_count": null,
   "id": "c9193de3",
   "metadata": {},
   "outputs": [],
   "source": []
  },
  {
   "cell_type": "markdown",
   "id": "d5487513",
   "metadata": {},
   "source": [
    "# SOM"
   ]
  },
  {
   "cell_type": "code",
   "execution_count": 254,
   "id": "0b5fd7b7",
   "metadata": {},
   "outputs": [],
   "source": [
    "train=pd.read_csv('som_df.csv')"
   ]
  },
  {
   "cell_type": "code",
   "execution_count": 264,
   "id": "3c2b3dc9",
   "metadata": {},
   "outputs": [],
   "source": [
    "train=train.drop('Unnamed: 0',axis=1)"
   ]
  },
  {
   "cell_type": "code",
   "execution_count": 265,
   "id": "4a133246",
   "metadata": {},
   "outputs": [],
   "source": [
    "X=train.drop('credit',axis=1)\n",
    "y =train.credit"
   ]
  },
  {
   "cell_type": "code",
   "execution_count": 266,
   "id": "b444c7ff",
   "metadata": {},
   "outputs": [],
   "source": [
    "from sklearn.preprocessing import StandardScaler\n",
    "standard_scaler = StandardScaler()\n",
    "X = standard_scaler.fit_transform(X)"
   ]
  },
  {
   "cell_type": "code",
   "execution_count": 267,
   "id": "88ab4ce3",
   "metadata": {},
   "outputs": [
    {
     "name": "stdout",
     "output_type": "stream",
     "text": [
      "8918\n",
      "8918\n",
      "3822\n",
      "3822\n"
     ]
    }
   ],
   "source": [
    "from sklearn.model_selection import train_test_split\n",
    "training_data, validation_data , training_labels, validation_labels = train_test_split(X, y, test_size = 0.3, random_state = 2022)\n",
    "print(len(training_data))\n",
    "print(len(training_labels))\n",
    "\n",
    "print(len(validation_data))\n",
    "print(len(validation_labels))"
   ]
  },
  {
   "cell_type": "code",
   "execution_count": 268,
   "id": "109d3043",
   "metadata": {},
   "outputs": [],
   "source": [
    "from imblearn.over_sampling import SMOTE\n",
    "training_data, training_labels = SMOTE(random_state=0).fit_resample(training_data, training_labels)"
   ]
  },
  {
   "cell_type": "code",
   "execution_count": 269,
   "id": "926950eb",
   "metadata": {},
   "outputs": [
    {
     "data": {
      "text/plain": [
       "0    7785\n",
       "1    7785\n",
       "Name: credit, dtype: int64"
      ]
     },
     "execution_count": 269,
     "metadata": {},
     "output_type": "execute_result"
    }
   ],
   "source": [
    "training_labels.value_counts()"
   ]
  },
  {
   "cell_type": "code",
   "execution_count": null,
   "id": "cce21f39",
   "metadata": {},
   "outputs": [],
   "source": []
  },
  {
   "cell_type": "code",
   "execution_count": 270,
   "id": "c1d45948",
   "metadata": {},
   "outputs": [],
   "source": [
    "from sklearn.tree import DecisionTreeClassifier\n",
    "from pydotplus import graph_from_dot_data\n",
    "from sklearn.tree import export_graphviz\n",
    "from IPython.display import Image\n",
    "import pydotplus\n",
    "import os\n",
    "import matplotlib.pyplot as plt"
   ]
  },
  {
   "cell_type": "code",
   "execution_count": 271,
   "id": "92b27da5",
   "metadata": {},
   "outputs": [],
   "source": [
    "from sklearn.pipeline import make_pipeline\n",
    "pipe_tree = make_pipeline(DecisionTreeClassifier(random_state=2022))"
   ]
  },
  {
   "cell_type": "code",
   "execution_count": 272,
   "id": "a9c6fe95",
   "metadata": {},
   "outputs": [
    {
     "data": {
      "image/png": "[encoded data removed]",
      "text/plain": [
       "<Figure size 432x288 with 1 Axes>"
      ]
     },
     "metadata": {
      "needs_background": "light"
     },
     "output_type": "display_data"
    }
   ],
   "source": [
    "# 검정곡선: 과대적합 문제 확인\n",
    "from sklearn.model_selection import validation_curve\n",
    "\n",
    "param_range = [1,10,20,30,40] # max_depth 범위 설정\n",
    "train_scores, validation_scores = validation_curve(estimator = pipe_tree, #기본모형 선택\n",
    "                                                   X = training_data,\n",
    "                                                   y = training_labels,\n",
    "                                                   param_name = 'decisiontreeclassifier__max_depth', #pipe_tree.get_params().keys()에서\n",
    "                                                   param_range=param_range,\n",
    "                                                   cv=10)\n",
    "\n",
    "train_mean = np.mean(train_scores, axis = 1)\n",
    "train_std = np.std(train_scores, axis = 1)\n",
    "validation_mean = np.mean(validation_scores, axis = 1)\n",
    "validation_std = np.std(validation_scores, axis = 1)\n",
    "\n",
    "plt.plot(param_range, train_mean,\n",
    "        color='blue', marker='o',\n",
    "        markersize=5, label='training accuracy')\n",
    "plt.fill_between(param_range, \n",
    "                train_mean + train_std,\n",
    "                train_mean - train_std,\n",
    "                alpha=0.15,\n",
    "                color='blue')\n",
    "plt.plot(param_range, validation_mean,\n",
    "        color='green', linestyle='--',\n",
    "        marker='s', markersize=5,\n",
    "        label='validation accuracy')\n",
    "plt.fill_between(param_range,\n",
    "                validation_mean + validation_std,\n",
    "                validation_mean - validation_std,\n",
    "                alpha=0.15, color='green')\n",
    "\n",
    "plt.grid()\n",
    "plt.xlabel('Number of max_depth')\n",
    "plt.legend(loc='lower right')\n",
    "plt.xlabel('Parameter max_depth')\n",
    "plt.ylabel('Accuracy')\n",
    "plt.ylim([0.0, 1.00]) # 보고싶은 구간 설정\n",
    "plt.tight_layout()\n",
    "plt.show()\n",
    "\n"
   ]
  },
  {
   "cell_type": "code",
   "execution_count": 273,
   "id": "78ce35a6",
   "metadata": {},
   "outputs": [
    {
     "name": "stdout",
     "output_type": "stream",
     "text": [
      "0.8341682723185613\n",
      "{'decisiontreeclassifier__criterion': 'gini', 'decisiontreeclassifier__max_depth': 33, 'decisiontreeclassifier__min_samples_leaf': 1}\n"
     ]
    }
   ],
   "source": [
    "from sklearn.model_selection import GridSearchCV\n",
    "\n",
    "param_range1 = [25,26,27,28,29,30,31,32,33,34]\n",
    "param_range2 = [1,2,3,4,5]\n",
    "param_range3 = ['gini', 'entropy']\n",
    "\n",
    "param_grid = [{'decisiontreeclassifier__max_depth': param_range1,\n",
    "              'decisiontreeclassifier__min_samples_leaf': param_range2,\n",
    "              'decisiontreeclassifier__criterion': param_range3}]\n",
    "\n",
    "gs = GridSearchCV(estimator = pipe_tree,\n",
    "                 param_grid = param_grid, # 찾고자하는 파라미터. dictionary 형식\n",
    "                 scoring = 'accuracy', \n",
    "                 cv=5,\n",
    "                 n_jobs= -1) # 병렬 처리갯수 -1은 전부를 의미\n",
    "\n",
    "gs = gs.fit(training_data, training_labels)\n",
    "\n",
    "print(gs.best_score_)\n",
    "print(gs.best_params_)"
   ]
  },
  {
   "cell_type": "code",
   "execution_count": 274,
   "id": "6db3260e",
   "metadata": {},
   "outputs": [
    {
     "name": "stdout",
     "output_type": "stream",
     "text": [
      "0.7883307169021455\n"
     ]
    }
   ],
   "source": [
    "# 최적의 모델 선택\n",
    "\n",
    "best_tree = gs.best_estimator_ # 최적의 파라미터로 모델 생성\n",
    "print(best_tree.score(validation_data,validation_labels))"
   ]
  },
  {
   "cell_type": "code",
   "execution_count": 275,
   "id": "4c4f7c2a",
   "metadata": {},
   "outputs": [],
   "source": [
    "y_pred = best_tree.predict(validation_data)"
   ]
  },
  {
   "cell_type": "code",
   "execution_count": 276,
   "id": "a560bf6f",
   "metadata": {},
   "outputs": [
    {
     "data": {
      "text/plain": [
       "array([1, 1, 1, ..., 1, 0, 1])"
      ]
     },
     "execution_count": 276,
     "metadata": {},
     "output_type": "execute_result"
    }
   ],
   "source": [
    "pred=pd.DataFrame(y_pred)\n",
    "y_pred"
   ]
  },
  {
   "cell_type": "code",
   "execution_count": 277,
   "id": "b90ff0a7",
   "metadata": {},
   "outputs": [
    {
     "data": {
      "text/plain": [
       "1    3124\n",
       "0     698\n",
       "dtype: int64"
      ]
     },
     "execution_count": 277,
     "metadata": {},
     "output_type": "execute_result"
    }
   ],
   "source": [
    "pred.value_counts()"
   ]
  },
  {
   "cell_type": "code",
   "execution_count": null,
   "id": "e3b4e0db",
   "metadata": {},
   "outputs": [],
   "source": []
  },
  {
   "cell_type": "markdown",
   "id": "e72b558c",
   "metadata": {},
   "source": [
    "# Cluster"
   ]
  },
  {
   "cell_type": "code",
   "execution_count": 224,
   "id": "cd38d7cc",
   "metadata": {},
   "outputs": [],
   "source": [
    "cluster_data=pd.read_csv('cluster.csv')"
   ]
  },
  {
   "cell_type": "code",
   "execution_count": 225,
   "id": "0ed370e6",
   "metadata": {},
   "outputs": [],
   "source": [
    "cluster_data=cluster_data.drop('Unnamed: 0',axis=1)"
   ]
  },
  {
   "cell_type": "code",
   "execution_count": 226,
   "id": "9615d2e5",
   "metadata": {},
   "outputs": [
    {
     "data": {
      "text/html": [
       "<div>\n",
       "<style scoped>\n",
       "    .dataframe tbody tr th:only-of-type {\n",
       "        vertical-align: middle;\n",
       "    }\n",
       "\n",
       "    .dataframe tbody tr th {\n",
       "        vertical-align: top;\n",
       "    }\n",
       "\n",
       "    .dataframe thead th {\n",
       "        text-align: right;\n",
       "    }\n",
       "</style>\n",
       "<table border=\"1\" class=\"dataframe\">\n",
       "  <thead>\n",
       "    <tr style=\"text-align: right;\">\n",
       "      <th></th>\n",
       "      <th>child_num</th>\n",
       "      <th>income_total</th>\n",
       "      <th>DAYS_BIRTH</th>\n",
       "      <th>DAYS_EMPLOYED</th>\n",
       "      <th>family_size</th>\n",
       "      <th>begin_month</th>\n",
       "      <th>gender</th>\n",
       "      <th>car</th>\n",
       "      <th>reality</th>\n",
       "      <th>work_phone</th>\n",
       "      <th>...</th>\n",
       "      <th>occyp_type_Realty agents</th>\n",
       "      <th>occyp_type_Sales staff</th>\n",
       "      <th>occyp_type_Secretaries</th>\n",
       "      <th>occyp_type_Security staff</th>\n",
       "      <th>occyp_type_Unknown</th>\n",
       "      <th>occyp_type_Waiters/barmen staff</th>\n",
       "      <th>cluster_label_0</th>\n",
       "      <th>cluster_label_1</th>\n",
       "      <th>cluster_label_2</th>\n",
       "      <th>cluster_label_3</th>\n",
       "    </tr>\n",
       "  </thead>\n",
       "  <tbody>\n",
       "    <tr>\n",
       "      <th>0</th>\n",
       "      <td>0</td>\n",
       "      <td>202500.0</td>\n",
       "      <td>-19031</td>\n",
       "      <td>1</td>\n",
       "      <td>2</td>\n",
       "      <td>-53</td>\n",
       "      <td>1</td>\n",
       "      <td>1</td>\n",
       "      <td>1</td>\n",
       "      <td>0</td>\n",
       "      <td>...</td>\n",
       "      <td>0</td>\n",
       "      <td>0</td>\n",
       "      <td>0</td>\n",
       "      <td>0</td>\n",
       "      <td>0</td>\n",
       "      <td>0</td>\n",
       "      <td>0</td>\n",
       "      <td>0</td>\n",
       "      <td>1</td>\n",
       "      <td>0</td>\n",
       "    </tr>\n",
       "    <tr>\n",
       "      <th>1</th>\n",
       "      <td>1</td>\n",
       "      <td>157500.0</td>\n",
       "      <td>-15773</td>\n",
       "      <td>-309</td>\n",
       "      <td>3</td>\n",
       "      <td>-26</td>\n",
       "      <td>1</td>\n",
       "      <td>1</td>\n",
       "      <td>1</td>\n",
       "      <td>0</td>\n",
       "      <td>...</td>\n",
       "      <td>0</td>\n",
       "      <td>1</td>\n",
       "      <td>0</td>\n",
       "      <td>0</td>\n",
       "      <td>0</td>\n",
       "      <td>0</td>\n",
       "      <td>0</td>\n",
       "      <td>0</td>\n",
       "      <td>0</td>\n",
       "      <td>1</td>\n",
       "    </tr>\n",
       "    <tr>\n",
       "      <th>2</th>\n",
       "      <td>0</td>\n",
       "      <td>135000.0</td>\n",
       "      <td>-13483</td>\n",
       "      <td>-1816</td>\n",
       "      <td>2</td>\n",
       "      <td>-9</td>\n",
       "      <td>1</td>\n",
       "      <td>1</td>\n",
       "      <td>1</td>\n",
       "      <td>1</td>\n",
       "      <td>...</td>\n",
       "      <td>0</td>\n",
       "      <td>0</td>\n",
       "      <td>0</td>\n",
       "      <td>0</td>\n",
       "      <td>0</td>\n",
       "      <td>0</td>\n",
       "      <td>1</td>\n",
       "      <td>0</td>\n",
       "      <td>0</td>\n",
       "      <td>0</td>\n",
       "    </tr>\n",
       "    <tr>\n",
       "      <th>3</th>\n",
       "      <td>2</td>\n",
       "      <td>112500.0</td>\n",
       "      <td>-12270</td>\n",
       "      <td>-150</td>\n",
       "      <td>4</td>\n",
       "      <td>-12</td>\n",
       "      <td>1</td>\n",
       "      <td>1</td>\n",
       "      <td>1</td>\n",
       "      <td>0</td>\n",
       "      <td>...</td>\n",
       "      <td>0</td>\n",
       "      <td>0</td>\n",
       "      <td>0</td>\n",
       "      <td>1</td>\n",
       "      <td>0</td>\n",
       "      <td>0</td>\n",
       "      <td>0</td>\n",
       "      <td>0</td>\n",
       "      <td>0</td>\n",
       "      <td>1</td>\n",
       "    </tr>\n",
       "    <tr>\n",
       "      <th>4</th>\n",
       "      <td>1</td>\n",
       "      <td>225000.0</td>\n",
       "      <td>-16175</td>\n",
       "      <td>-2371</td>\n",
       "      <td>3</td>\n",
       "      <td>-3</td>\n",
       "      <td>1</td>\n",
       "      <td>1</td>\n",
       "      <td>1</td>\n",
       "      <td>0</td>\n",
       "      <td>...</td>\n",
       "      <td>0</td>\n",
       "      <td>0</td>\n",
       "      <td>0</td>\n",
       "      <td>0</td>\n",
       "      <td>0</td>\n",
       "      <td>0</td>\n",
       "      <td>0</td>\n",
       "      <td>0</td>\n",
       "      <td>0</td>\n",
       "      <td>1</td>\n",
       "    </tr>\n",
       "    <tr>\n",
       "      <th>...</th>\n",
       "      <td>...</td>\n",
       "      <td>...</td>\n",
       "      <td>...</td>\n",
       "      <td>...</td>\n",
       "      <td>...</td>\n",
       "      <td>...</td>\n",
       "      <td>...</td>\n",
       "      <td>...</td>\n",
       "      <td>...</td>\n",
       "      <td>...</td>\n",
       "      <td>...</td>\n",
       "      <td>...</td>\n",
       "      <td>...</td>\n",
       "      <td>...</td>\n",
       "      <td>...</td>\n",
       "      <td>...</td>\n",
       "      <td>...</td>\n",
       "      <td>...</td>\n",
       "      <td>...</td>\n",
       "      <td>...</td>\n",
       "      <td>...</td>\n",
       "    </tr>\n",
       "    <tr>\n",
       "      <th>12735</th>\n",
       "      <td>0</td>\n",
       "      <td>180000.0</td>\n",
       "      <td>-10562</td>\n",
       "      <td>-3109</td>\n",
       "      <td>2</td>\n",
       "      <td>-26</td>\n",
       "      <td>1</td>\n",
       "      <td>1</td>\n",
       "      <td>1</td>\n",
       "      <td>0</td>\n",
       "      <td>...</td>\n",
       "      <td>0</td>\n",
       "      <td>0</td>\n",
       "      <td>0</td>\n",
       "      <td>0</td>\n",
       "      <td>0</td>\n",
       "      <td>0</td>\n",
       "      <td>1</td>\n",
       "      <td>0</td>\n",
       "      <td>0</td>\n",
       "      <td>0</td>\n",
       "    </tr>\n",
       "    <tr>\n",
       "      <th>12736</th>\n",
       "      <td>0</td>\n",
       "      <td>225000.0</td>\n",
       "      <td>-20657</td>\n",
       "      <td>-5637</td>\n",
       "      <td>1</td>\n",
       "      <td>-43</td>\n",
       "      <td>1</td>\n",
       "      <td>1</td>\n",
       "      <td>1</td>\n",
       "      <td>0</td>\n",
       "      <td>...</td>\n",
       "      <td>0</td>\n",
       "      <td>0</td>\n",
       "      <td>0</td>\n",
       "      <td>0</td>\n",
       "      <td>0</td>\n",
       "      <td>0</td>\n",
       "      <td>0</td>\n",
       "      <td>1</td>\n",
       "      <td>0</td>\n",
       "      <td>0</td>\n",
       "    </tr>\n",
       "    <tr>\n",
       "      <th>12737</th>\n",
       "      <td>0</td>\n",
       "      <td>135000.0</td>\n",
       "      <td>-14625</td>\n",
       "      <td>-7827</td>\n",
       "      <td>2</td>\n",
       "      <td>-34</td>\n",
       "      <td>1</td>\n",
       "      <td>1</td>\n",
       "      <td>1</td>\n",
       "      <td>0</td>\n",
       "      <td>...</td>\n",
       "      <td>0</td>\n",
       "      <td>0</td>\n",
       "      <td>0</td>\n",
       "      <td>0</td>\n",
       "      <td>1</td>\n",
       "      <td>0</td>\n",
       "      <td>0</td>\n",
       "      <td>1</td>\n",
       "      <td>0</td>\n",
       "      <td>0</td>\n",
       "    </tr>\n",
       "    <tr>\n",
       "      <th>12738</th>\n",
       "      <td>1</td>\n",
       "      <td>157500.0</td>\n",
       "      <td>-10676</td>\n",
       "      <td>-2326</td>\n",
       "      <td>3</td>\n",
       "      <td>-16</td>\n",
       "      <td>1</td>\n",
       "      <td>1</td>\n",
       "      <td>1</td>\n",
       "      <td>0</td>\n",
       "      <td>...</td>\n",
       "      <td>0</td>\n",
       "      <td>0</td>\n",
       "      <td>0</td>\n",
       "      <td>0</td>\n",
       "      <td>0</td>\n",
       "      <td>0</td>\n",
       "      <td>0</td>\n",
       "      <td>0</td>\n",
       "      <td>0</td>\n",
       "      <td>1</td>\n",
       "    </tr>\n",
       "    <tr>\n",
       "      <th>12739</th>\n",
       "      <td>2</td>\n",
       "      <td>67500.0</td>\n",
       "      <td>-11925</td>\n",
       "      <td>-1621</td>\n",
       "      <td>4</td>\n",
       "      <td>-4</td>\n",
       "      <td>1</td>\n",
       "      <td>1</td>\n",
       "      <td>1</td>\n",
       "      <td>0</td>\n",
       "      <td>...</td>\n",
       "      <td>0</td>\n",
       "      <td>0</td>\n",
       "      <td>0</td>\n",
       "      <td>0</td>\n",
       "      <td>1</td>\n",
       "      <td>0</td>\n",
       "      <td>0</td>\n",
       "      <td>0</td>\n",
       "      <td>0</td>\n",
       "      <td>1</td>\n",
       "    </tr>\n",
       "  </tbody>\n",
       "</table>\n",
       "<p>12740 rows × 57 columns</p>\n",
       "</div>"
      ],
      "text/plain": [
       "       child_num  income_total  DAYS_BIRTH  DAYS_EMPLOYED  family_size  \\\n",
       "0              0      202500.0      -19031              1            2   \n",
       "1              1      157500.0      -15773           -309            3   \n",
       "2              0      135000.0      -13483          -1816            2   \n",
       "3              2      112500.0      -12270           -150            4   \n",
       "4              1      225000.0      -16175          -2371            3   \n",
       "...          ...           ...         ...            ...          ...   \n",
       "12735          0      180000.0      -10562          -3109            2   \n",
       "12736          0      225000.0      -20657          -5637            1   \n",
       "12737          0      135000.0      -14625          -7827            2   \n",
       "12738          1      157500.0      -10676          -2326            3   \n",
       "12739          2       67500.0      -11925          -1621            4   \n",
       "\n",
       "       begin_month  gender  car  reality  work_phone  ...  \\\n",
       "0              -53       1    1        1           0  ...   \n",
       "1              -26       1    1        1           0  ...   \n",
       "2               -9       1    1        1           1  ...   \n",
       "3              -12       1    1        1           0  ...   \n",
       "4               -3       1    1        1           0  ...   \n",
       "...            ...     ...  ...      ...         ...  ...   \n",
       "12735          -26       1    1        1           0  ...   \n",
       "12736          -43       1    1        1           0  ...   \n",
       "12737          -34       1    1        1           0  ...   \n",
       "12738          -16       1    1        1           0  ...   \n",
       "12739           -4       1    1        1           0  ...   \n",
       "\n",
       "       occyp_type_Realty agents  occyp_type_Sales staff  \\\n",
       "0                             0                       0   \n",
       "1                             0                       1   \n",
       "2                             0                       0   \n",
       "3                             0                       0   \n",
       "4                             0                       0   \n",
       "...                         ...                     ...   \n",
       "12735                         0                       0   \n",
       "12736                         0                       0   \n",
       "12737                         0                       0   \n",
       "12738                         0                       0   \n",
       "12739                         0                       0   \n",
       "\n",
       "       occyp_type_Secretaries  occyp_type_Security staff  occyp_type_Unknown  \\\n",
       "0                           0                          0                   0   \n",
       "1                           0                          0                   0   \n",
       "2                           0                          0                   0   \n",
       "3                           0                          1                   0   \n",
       "4                           0                          0                   0   \n",
       "...                       ...                        ...                 ...   \n",
       "12735                       0                          0                   0   \n",
       "12736                       0                          0                   0   \n",
       "12737                       0                          0                   1   \n",
       "12738                       0                          0                   0   \n",
       "12739                       0                          0                   1   \n",
       "\n",
       "       occyp_type_Waiters/barmen staff  cluster_label_0  cluster_label_1  \\\n",
       "0                                    0                0                0   \n",
       "1                                    0                0                0   \n",
       "2                                    0                1                0   \n",
       "3                                    0                0                0   \n",
       "4                                    0                0                0   \n",
       "...                                ...              ...              ...   \n",
       "12735                                0                1                0   \n",
       "12736                                0                0                1   \n",
       "12737                                0                0                1   \n",
       "12738                                0                0                0   \n",
       "12739                                0                0                0   \n",
       "\n",
       "       cluster_label_2  cluster_label_3  \n",
       "0                    1                0  \n",
       "1                    0                1  \n",
       "2                    0                0  \n",
       "3                    0                1  \n",
       "4                    0                1  \n",
       "...                ...              ...  \n",
       "12735                0                0  \n",
       "12736                0                0  \n",
       "12737                0                0  \n",
       "12738                0                1  \n",
       "12739                0                1  \n",
       "\n",
       "[12740 rows x 57 columns]"
      ]
     },
     "execution_count": 226,
     "metadata": {},
     "output_type": "execute_result"
    }
   ],
   "source": [
    "cluster_data"
   ]
  },
  {
   "cell_type": "code",
   "execution_count": 227,
   "id": "fa7d50cb",
   "metadata": {},
   "outputs": [],
   "source": [
    "X=cluster_data.values\n",
    "y =train.credit"
   ]
  },
  {
   "cell_type": "code",
   "execution_count": 228,
   "id": "2836b317",
   "metadata": {},
   "outputs": [],
   "source": [
    "from sklearn.preprocessing import StandardScaler\n",
    "standard_scaler = StandardScaler()\n",
    "X = standard_scaler.fit_transform(X)"
   ]
  },
  {
   "cell_type": "code",
   "execution_count": 229,
   "id": "82ddc20f",
   "metadata": {},
   "outputs": [
    {
     "name": "stdout",
     "output_type": "stream",
     "text": [
      "8918\n",
      "8918\n",
      "3822\n",
      "3822\n"
     ]
    }
   ],
   "source": [
    "from sklearn.model_selection import train_test_split\n",
    "training_data, validation_data , training_labels, validation_labels = train_test_split(X, y, test_size = 0.3, random_state = 2022)\n",
    "print(len(training_data))\n",
    "print(len(training_labels))\n",
    "\n",
    "print(len(validation_data))\n",
    "print(len(validation_labels))"
   ]
  },
  {
   "cell_type": "code",
   "execution_count": 230,
   "id": "22016f01",
   "metadata": {},
   "outputs": [],
   "source": [
    "from imblearn.over_sampling import SMOTE\n",
    "training_data, training_labels = SMOTE(random_state=0).fit_resample(training_data, training_labels)"
   ]
  },
  {
   "cell_type": "code",
   "execution_count": 231,
   "id": "e5cfde96",
   "metadata": {},
   "outputs": [],
   "source": [
    "from sklearn.tree import DecisionTreeClassifier\n",
    "from pydotplus import graph_from_dot_data\n",
    "from sklearn.tree import export_graphviz\n",
    "from IPython.display import Image\n",
    "import pydotplus\n",
    "import os\n",
    "import matplotlib.pyplot as plt"
   ]
  },
  {
   "cell_type": "code",
   "execution_count": 232,
   "id": "7a21ab44",
   "metadata": {},
   "outputs": [],
   "source": [
    "from sklearn.pipeline import make_pipeline\n",
    "pipe_tree = make_pipeline(DecisionTreeClassifier(random_state=2022))"
   ]
  },
  {
   "cell_type": "code",
   "execution_count": 233,
   "id": "696d3175",
   "metadata": {},
   "outputs": [
    {
     "data": {
      "image/png": "[encoded data removed]",
      "text/plain": [
       "<Figure size 432x288 with 1 Axes>"
      ]
     },
     "metadata": {
      "needs_background": "light"
     },
     "output_type": "display_data"
    }
   ],
   "source": [
    "# 검정곡선: 과대적합 문제 확인\n",
    "from sklearn.model_selection import validation_curve\n",
    "\n",
    "param_range = [1,10,20,30,40] # max_depth 범위 설정\n",
    "train_scores, validation_scores = validation_curve(estimator = pipe_tree, #기본모형 선택\n",
    "                                                   X = training_data,\n",
    "                                                   y = training_labels,\n",
    "                                                   param_name = 'decisiontreeclassifier__max_depth', #pipe_tree.get_params().keys()에서\n",
    "                                                   param_range=param_range,\n",
    "                                                   cv=10)\n",
    "\n",
    "train_mean = np.mean(train_scores, axis = 1)\n",
    "train_std = np.std(train_scores, axis = 1)\n",
    "validation_mean = np.mean(validation_scores, axis = 1)\n",
    "validation_std = np.std(validation_scores, axis = 1)\n",
    "\n",
    "plt.plot(param_range, train_mean,\n",
    "        color='blue', marker='o',\n",
    "        markersize=5, label='training accuracy')\n",
    "plt.fill_between(param_range, \n",
    "                train_mean + train_std,\n",
    "                train_mean - train_std,\n",
    "                alpha=0.15,\n",
    "                color='blue')\n",
    "plt.plot(param_range, validation_mean,\n",
    "        color='green', linestyle='--',\n",
    "        marker='s', markersize=5,\n",
    "        label='validation accuracy')\n",
    "plt.fill_between(param_range,\n",
    "                validation_mean + validation_std,\n",
    "                validation_mean - validation_std,\n",
    "                alpha=0.15, color='green')\n",
    "\n",
    "plt.grid()\n",
    "plt.xlabel('Number of max_depth')\n",
    "plt.legend(loc='lower right')\n",
    "plt.xlabel('Parameter max_depth')\n",
    "plt.ylabel('Accuracy')\n",
    "plt.ylim([0.0, 1.00]) # 보고싶은 구간 설정\n",
    "plt.tight_layout()\n",
    "plt.show()\n",
    "\n"
   ]
  },
  {
   "cell_type": "code",
   "execution_count": 234,
   "id": "db830663",
   "metadata": {},
   "outputs": [
    {
     "name": "stdout",
     "output_type": "stream",
     "text": [
      "0.7781631342324984\n",
      "{'decisiontreeclassifier__criterion': 'gini', 'decisiontreeclassifier__max_depth': 14, 'decisiontreeclassifier__min_samples_leaf': 1}\n"
     ]
    }
   ],
   "source": [
    "from sklearn.model_selection import GridSearchCV\n",
    "\n",
    "param_range1 = [10,11,12,13,14]\n",
    "param_range2 = [1,2,3,4,5]\n",
    "param_range3 = ['gini', 'entropy']\n",
    "\n",
    "param_grid = [{'decisiontreeclassifier__max_depth': param_range1,\n",
    "              'decisiontreeclassifier__min_samples_leaf': param_range2,\n",
    "              'decisiontreeclassifier__criterion': param_range3}]\n",
    "\n",
    "gs = GridSearchCV(estimator = pipe_tree,\n",
    "                 param_grid = param_grid, # 찾고자하는 파라미터. dictionary 형식\n",
    "                 scoring = 'accuracy', \n",
    "                 cv=5,\n",
    "                 n_jobs= -1) # 병렬 처리갯수 -1은 전부를 의미\n",
    "\n",
    "gs = gs.fit(training_data, training_labels)\n",
    "\n",
    "print(gs.best_score_)\n",
    "print(gs.best_params_)"
   ]
  },
  {
   "cell_type": "code",
   "execution_count": 235,
   "id": "5a2ea67c",
   "metadata": {},
   "outputs": [
    {
     "name": "stdout",
     "output_type": "stream",
     "text": [
      "0.6889063317634746\n"
     ]
    }
   ],
   "source": [
    "# 최적의 모델 선택\n",
    "\n",
    "best_tree = gs.best_estimator_ # 최적의 파라미터로 모델 생성\n",
    "print(best_tree.score(validation_data,validation_labels))"
   ]
  },
  {
   "cell_type": "code",
   "execution_count": 236,
   "id": "2b5c2fa0",
   "metadata": {},
   "outputs": [
    {
     "data": {
      "text/plain": [
       "array([1, 1, 1, ..., 1, 0, 1])"
      ]
     },
     "execution_count": 236,
     "metadata": {},
     "output_type": "execute_result"
    }
   ],
   "source": [
    "y_pred = best_tree.predict(validation_data)\n",
    "y_pred"
   ]
  },
  {
   "cell_type": "code",
   "execution_count": 237,
   "id": "e29d4619",
   "metadata": {},
   "outputs": [],
   "source": [
    "pred=pd.DataFrame(y_pred)"
   ]
  },
  {
   "cell_type": "code",
   "execution_count": 238,
   "id": "9d86952c",
   "metadata": {},
   "outputs": [
    {
     "data": {
      "text/plain": [
       "1    2762\n",
       "0    1060\n",
       "dtype: int64"
      ]
     },
     "execution_count": 238,
     "metadata": {},
     "output_type": "execute_result"
    }
   ],
   "source": [
    "pred.value_counts()"
   ]
  },
  {
   "cell_type": "code",
   "execution_count": null,
   "id": "05f88310",
   "metadata": {},
   "outputs": [],
   "source": []
  }
 ],
 "metadata": {
  "kernelspec": {
   "display_name": "Python 3",
   "language": "python",
   "name": "python3"
  },
  "language_info": {
   "codemirror_mode": {
    "name": "ipython",
    "version": 3
   },
   "file_extension": ".py",
   "mimetype": "text/x-python",
   "name": "python",
   "nbconvert_exporter": "python",
   "pygments_lexer": "ipython3",
   "version": "3.9.4"
  }
 },
 "nbformat": 4,
 "nbformat_minor": 5
}
